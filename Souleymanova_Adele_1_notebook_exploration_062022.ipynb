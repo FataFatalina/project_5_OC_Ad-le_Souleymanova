{
 "cells": [
  {
   "cell_type": "markdown",
   "id": "18568edb-d40b-4237-a8dd-07257153c02c",
   "metadata": {
    "tags": []
   },
   "source": [
    "## Projet 5 : Ségmentation des clients d'une base de données d'une plateforme E-commerce Olist\n",
    "\n",
    "But du projet: segmentation des clients afin de comprendre les différents types d’utilisateurs\n",
    "fournir à l’équipe marketing une description actionable et proposer contrat de maintenance du Modèle\n",
    "\n",
    "Approche: utilisation de méthodes non supervisées pour regrouper ensemble des clients de profils similaires\n",
    "évaluer la fréquence à laquelle la segmentation doit être mise à jour afin de proposer un devis de contrat de maintenance.\n",
    "\n",
    "Notebook 1 du projet 5:\n",
    "Dans ce notebook nous allons:\n",
    "\n",
    "I) Analyser les datasets\n",
    "\n",
    "    1) Importer les données\n",
    "    2) Visualiser les premieres lignes des datasets\n",
    "     \n",
    "II) Joindre les differents datasets\n",
    "\n",
    "    1) Renommer les colonnes concernant les zip codes dans les differents datasets\n",
    "    2) Supprimer les duplicats\n",
    "    3) Jointure des datasets \"client\"\n",
    "    4) Jointure finale avec datasets \"produits\"\n",
    "    \n",
    "III) Feature engineering\n",
    "\n",
    "    1) Manipulation des features temporels\n",
    "    2) Création de catégories plus simples \n",
    "    3) Aggregation par clients et création de nouvelles colonnes\n",
    "    4) Jointure des features crées en une seule dataframe ' data'\n",
    "    \n",
    "    \n",
    "IV) Analyse exploratoire\n",
    "\n",
    "    1) Visualisation des Etats qui achètent le plus\n",
    "    2) Les produits les plus vendus\n",
    "    3) L'évolution de la vente en fonction des mois de l'année\n",
    "    4) Représentation géographique de la consommation par les clients\n",
    "\n",
    "    \n",
    "V) Data preprocessing \n",
    "\n",
    "    1) Visualisation de la corrélation linéaire entre les différents features\n",
    "    2) Vérification de valeurs manquates et imputation par les valeurs modales\n",
    "    3) Suppresion de features redondantes et Encodage des variables categorielle\n",
    "    4) Sélection des features les plus intéressants selon la variance\n",
    "    5) Positiver les valeurs\n",
    "    6) Train/Test split\n",
    "    \n",
    "\n",
    "    \n",
    "Le code fourni drespectera la convention PEP8 pour être utilisable par Olist.\n"
   ]
  },
  {
   "cell_type": "code",
   "execution_count": 132,
   "id": "f8d42465-c9ed-46ac-862d-bd9a6e4d2a31",
   "metadata": {
    "collapsed": true,
    "jupyter": {
     "outputs_hidden": true
    },
    "tags": []
   },
   "outputs": [
    {
     "name": "stdout",
     "output_type": "stream",
     "text": [
      "Collecting missingno\n",
      "  Downloading missingno-0.5.1-py3-none-any.whl (8.7 kB)\n",
      "Requirement already satisfied: numpy in c:\\users\\adele\\anaconda3\\lib\\site-packages (from missingno) (1.20.3)\n",
      "Requirement already satisfied: seaborn in c:\\users\\adele\\anaconda3\\lib\\site-packages (from missingno) (0.11.2)\n",
      "Requirement already satisfied: scipy in c:\\users\\adele\\anaconda3\\lib\\site-packages (from missingno) (1.7.1)\n",
      "Requirement already satisfied: matplotlib in c:\\users\\adele\\anaconda3\\lib\\site-packages (from missingno) (3.4.3)\n",
      "Requirement already satisfied: kiwisolver>=1.0.1 in c:\\users\\adele\\anaconda3\\lib\\site-packages (from matplotlib->missingno) (1.3.1)\n",
      "Requirement already satisfied: python-dateutil>=2.7 in c:\\users\\adele\\anaconda3\\lib\\site-packages (from matplotlib->missingno) (2.8.2)\n",
      "Requirement already satisfied: pyparsing>=2.2.1 in c:\\users\\adele\\anaconda3\\lib\\site-packages (from matplotlib->missingno) (3.0.4)\n",
      "Requirement already satisfied: cycler>=0.10 in c:\\users\\adele\\anaconda3\\lib\\site-packages (from matplotlib->missingno) (0.10.0)\n",
      "Requirement already satisfied: pillow>=6.2.0 in c:\\users\\adele\\anaconda3\\lib\\site-packages (from matplotlib->missingno) (8.4.0)\n",
      "Requirement already satisfied: six in c:\\users\\adele\\anaconda3\\lib\\site-packages (from cycler>=0.10->matplotlib->missingno) (1.16.0)\n",
      "Requirement already satisfied: pandas>=0.23 in c:\\users\\adele\\anaconda3\\lib\\site-packages (from seaborn->missingno) (1.3.4)\n",
      "Requirement already satisfied: pytz>=2017.3 in c:\\users\\adele\\anaconda3\\lib\\site-packages (from pandas>=0.23->seaborn->missingno) (2021.3)\n",
      "Installing collected packages: missingno\n",
      "Successfully installed missingno-0.5.1\n",
      "Note: you may need to restart the kernel to use updated packages.\n"
     ]
    }
   ],
   "source": [
    "pip install missingno"
   ]
  },
  {
   "cell_type": "code",
   "execution_count": 2,
   "id": "44fa38b3-b090-43da-9224-43f41943cd21",
   "metadata": {},
   "outputs": [],
   "source": [
    "#imports\n",
    "\n",
    "import pandas as pd\n",
    "import numpy as np\n",
    "import seaborn as sns\n",
    "import missingno as msno\n",
    "import matplotlib.cm as cm\n",
    "import matplotlib.pyplot as plt\n",
    "#import missingno as msno\n",
    "%matplotlib inline\n",
    "from sklearn.preprocessing import OrdinalEncoder\n",
    "from sklearn.impute import KNNImputer"
   ]
  },
  {
   "cell_type": "markdown",
   "id": "f42d0d44-bd67-46e0-bc3f-0533df737f17",
   "metadata": {},
   "source": [
    "I) Analyser les datasets\n",
    "\n",
    "    1) Importer les données\n",
    "   "
   ]
  },
  {
   "cell_type": "code",
   "execution_count": 5,
   "id": "d2f5e4f3-6082-4f0b-b241-1ca8a465cbb1",
   "metadata": {},
   "outputs": [],
   "source": [
    "customers_data = pd.read_csv('olist_customers_dataset.csv')\n",
    "geolocation_data = pd.read_csv('olist_geolocation_dataset.csv')\n",
    "order_items_data = pd.read_csv(\"olist_order_items_dataset.csv\")\n",
    "payments_data = pd.read_csv('olist_order_payments_dataset.csv')\n",
    "order_review_data = pd.read_csv(\"olist_order_reviews_dataset.csv\")\n",
    "orders_data = pd.read_csv('olist_orders_dataset.csv')\n",
    "products_data = pd.read_csv(\"olist_products_dataset.csv\")\n",
    "sellers_data = pd.read_csv(\"datasets_55151_195341_olist_sellers_dataset (1).csv\")\n",
    "product_category = pd.read_csv('product_category_name_translation.csv')\n"
   ]
  },
  {
   "cell_type": "markdown",
   "id": "6c872727-bc81-471f-80a8-6965bb55b317",
   "metadata": {},
   "source": [
    "    2) Visualiser les premieres lignes des datasets"
   ]
  },
  {
   "cell_type": "code",
   "execution_count": null,
   "id": "1eb75617-9e83-4388-b4d1-9cfb5e6290ac",
   "metadata": {},
   "outputs": [],
   "source": [
    "customers_data.head(2)"
   ]
  },
  {
   "cell_type": "code",
   "execution_count": null,
   "id": "52ca27a2-703c-4efa-92cf-72719f69822d",
   "metadata": {},
   "outputs": [],
   "source": [
    "orders_data.head(2)"
   ]
  },
  {
   "cell_type": "code",
   "execution_count": null,
   "id": "25674110-a439-4c73-a0fd-7c49fca267a5",
   "metadata": {},
   "outputs": [],
   "source": [
    "geolocation_data.head(2)"
   ]
  },
  {
   "cell_type": "code",
   "execution_count": null,
   "id": "556b55a8-9400-4b28-b417-b10c339280f5",
   "metadata": {},
   "outputs": [],
   "source": [
    "order_items_data.head(2)"
   ]
  },
  {
   "cell_type": "code",
   "execution_count": null,
   "id": "d8660b42-d153-4fe6-a7d5-68cea85d6322",
   "metadata": {},
   "outputs": [],
   "source": [
    "payments_data.head(2)  "
   ]
  },
  {
   "cell_type": "code",
   "execution_count": null,
   "id": "64805b52-f56f-4afc-b9eb-8911d876d247",
   "metadata": {},
   "outputs": [],
   "source": [
    "order_review_data.head(2)"
   ]
  },
  {
   "cell_type": "code",
   "execution_count": null,
   "id": "79087ad2-d3da-4438-83d2-1a3b6e19ff82",
   "metadata": {},
   "outputs": [],
   "source": [
    "orders_data.head(2)"
   ]
  },
  {
   "cell_type": "code",
   "execution_count": null,
   "id": "12f5e0da-0103-4a0a-8aa7-3ac2c7bdf471",
   "metadata": {},
   "outputs": [],
   "source": [
    "products_data.head(2)"
   ]
  },
  {
   "cell_type": "code",
   "execution_count": null,
   "id": "e50df890-5f7c-497b-ad08-010292f9b03c",
   "metadata": {},
   "outputs": [],
   "source": [
    "sellers_data.head(2)"
   ]
  },
  {
   "cell_type": "code",
   "execution_count": null,
   "id": "c83c0cc2-6d9f-4156-8ab6-c777ad0ab72c",
   "metadata": {},
   "outputs": [],
   "source": [
    "product_category.head(2)"
   ]
  },
  {
   "cell_type": "code",
   "execution_count": 57,
   "id": "969718f5-b33e-4130-b33e-e8efab49b429",
   "metadata": {},
   "outputs": [],
   "source": [
    "datasets = [customers_data, orders_data, geolocation_data, order_items_data, payments_data, order_review_data, orders_data, products_data, sellers_data, product_category]\n",
    "dataset_names = ['customers_data', 'orders_data', 'geolocation_data', 'order_items_data', 'payments_data', 'order_review_data',\n",
    "                 'orders_data', 'products_data', 'sellers_data', 'product_category']"
   ]
  },
  {
   "cell_type": "code",
   "execution_count": 58,
   "id": "b86258e6-2ffe-4a9c-9f12-0ec92b9daf4f",
   "metadata": {},
   "outputs": [
    {
     "name": "stdout",
     "output_type": "stream",
     "text": [
      "The shape of the customers_data is (99441, 5)\n",
      "The shape of the orders_data is (99441, 8)\n",
      "The shape of the geolocation_data is (1000163, 5)\n",
      "The shape of the order_items_data is (112650, 7)\n",
      "The shape of the payments_data is (103886, 5)\n",
      "The shape of the order_review_data is (100000, 7)\n",
      "The shape of the orders_data is (99441, 8)\n",
      "The shape of the products_data is (32951, 9)\n",
      "The shape of the sellers_data is (3095, 4)\n",
      "The shape of the product_category is (71, 2)\n"
     ]
    }
   ],
   "source": [
    "for dataset_names,dataset in zip(dataset_names, datasets):  \n",
    "    print('{} {} {} {}'.format('The shape of the', dataset_names, 'is', dataset.shape))"
   ]
  },
  {
   "cell_type": "markdown",
   "id": "7c1c12ea-758d-4c32-8b1e-08f541449119",
   "metadata": {},
   "source": [
    "II) Joindre les differents datasets\n",
    "\n",
    "    1) Renommer les colonnes concernant les zip codes dans les differents datasets\n",
    "    2) Supprimer les duplicats\n",
    "    3) Jointure des datasets \"client\"\n",
    "    4) Jointure finale avec datasets \"produits\""
   ]
  },
  {
   "cell_type": "markdown",
   "id": "d41fb3bb-9561-4092-96d6-e0eeea098a47",
   "metadata": {},
   "source": [
    "1) Renommer les colonnes concernant les zip codes dans les differents datasets"
   ]
  },
  {
   "cell_type": "code",
   "execution_count": 5,
   "id": "f7613dc1-5d24-4761-9bb4-308f977a517a",
   "metadata": {},
   "outputs": [],
   "source": [
    "#renommer les colonnes concernant les zip codes dans les tables pour pouvoir l'utiliser comme une clé pour l'aggrégation\n",
    "geolocation_data.rename(columns={'geolocation_zip_code_prefix':'zip_code_prefix'},inplace=True)\n",
    "customers_data.rename(columns={'customer_zip_code_prefix':'zip_code_prefix'},inplace=True)\n",
    "sellers_data.rename(columns={'seller_zip_code_prefix':'zip_code_prefix'},inplace=True)"
   ]
  },
  {
   "cell_type": "markdown",
   "id": "aee45d36-e2aa-4833-8d26-1d84e9f5e1a6",
   "metadata": {},
   "source": [
    "2) Supprimer les duplicats"
   ]
  },
  {
   "cell_type": "code",
   "execution_count": 6,
   "id": "ab4e687a-3cd7-4760-9c94-80cb4b8ee82d",
   "metadata": {},
   "outputs": [
    {
     "data": {
      "text/plain": [
       "(19015, 5)"
      ]
     },
     "execution_count": 6,
     "metadata": {},
     "output_type": "execute_result"
    }
   ],
   "source": [
    "geolocation_data.drop_duplicates(subset='zip_code_prefix',inplace=True)\n",
    "geolocation_data.shape"
   ]
  },
  {
   "cell_type": "markdown",
   "id": "e3f48202-8a3e-41e8-9149-f4ac725332d2",
   "metadata": {},
   "source": [
    "3) Jointure des datasets \"client\""
   ]
  },
  {
   "cell_type": "code",
   "execution_count": 7,
   "id": "64b77569-560a-4974-a61b-5741fc0e3e38",
   "metadata": {},
   "outputs": [
    {
     "data": {
      "text/plain": [
       "(118315, 32)"
      ]
     },
     "execution_count": 7,
     "metadata": {},
     "output_type": "execute_result"
    }
   ],
   "source": [
    "    \n",
    "order = pd.merge(orders_data,order_review_data,how='left', on='order_id')\n",
    "order = pd.merge(order,payments_data,on='order_id')\n",
    "order = pd.merge(order,customers_data,on='customer_id')\n",
    "order = pd.merge(order,order_items_data,on='order_id')\n",
    "\n",
    "# effectuer une jointure left outer afin de garder toutes les données sur les zipe codes, latitude et longitude\n",
    "order = pd.merge(order,geolocation_data,how='left',on='zip_code_prefix')\n",
    "order.shape"
   ]
  },
  {
   "cell_type": "markdown",
   "id": "bb251d82-28b4-47e1-a518-027c0e60cdc3",
   "metadata": {},
   "source": [
    "4) Jointure finale avec datasets \"produits\""
   ]
  },
  {
   "cell_type": "code",
   "execution_count": 8,
   "id": "9eb20158-3c73-4dc8-8416-4006a4d495d4",
   "metadata": {},
   "outputs": [],
   "source": [
    "pd.set_option('display.max_rows', None)\n",
    "pd.set_option('display.max_columns', None)"
   ]
  },
  {
   "cell_type": "code",
   "execution_count": 9,
   "id": "8c2eeca4-89d8-43d5-9342-e4141f595fac",
   "metadata": {},
   "outputs": [],
   "source": [
    "product = pd.merge(order,products_data,how='left', on='product_id')\n",
    "product = pd.merge(product,product_category,how = 'left', on='product_category_name')"
   ]
  },
  {
   "cell_type": "code",
   "execution_count": 22,
   "id": "d5829a69-cfe5-4c71-9ef3-46e28ca3c660",
   "metadata": {},
   "outputs": [],
   "source": [
    "#product.head()"
   ]
  },
  {
   "cell_type": "markdown",
   "id": "abfcfc12-f150-4195-8d3b-4f67c6b55902",
   "metadata": {},
   "source": [
    "III) Feature engineering\n",
    "\n",
    "    1) Manipulation des features temporels\n",
    "    2) Création de catégories plus simples \n",
    "    3) Aggregation par clients et création de nouvelles colonnes\n",
    "    4) Jointure des features crées en une seule dataframe ' data'\n",
    " "
   ]
  },
  {
   "cell_type": "markdown",
   "id": "8ee439e7-93d8-4cb1-9637-ad54a4aad2b9",
   "metadata": {},
   "source": [
    "1) Manipulation des features temporels"
   ]
  },
  {
   "cell_type": "code",
   "execution_count": 10,
   "id": "9d0451a2-d0cf-4b54-a665-660555f994f0",
   "metadata": {},
   "outputs": [],
   "source": [
    "#Formater les colonnes de dates de str en format de date manipulable\n",
    "    \n",
    "date_columns = ['order_purchase_timestamp', 'order_approved_at', 'order_delivered_carrier_date', 'order_delivered_customer_date',\n",
    "             'order_estimated_delivery_date', 'shipping_limit_date', 'review_creation_date', 'review_answer_timestamp'] \n",
    "for col in date_columns:\n",
    "    product[col] = pd.to_datetime(product[col], format='%Y-%m-%d %H:%M:%S')"
   ]
  },
  {
   "cell_type": "code",
   "execution_count": 11,
   "id": "1ccab230-e051-4eac-a5a5-aa6e3b2faeb6",
   "metadata": {},
   "outputs": [],
   "source": [
    "# Month_order pour data exploration\n",
    "product['Month_order'] = product['order_purchase_timestamp']\n",
    "product['year_order'] = pd.DatetimeIndex(product['Month_order']).year\n",
    "product['month_order'] =  pd.DatetimeIndex(product['Month_order']).month\n",
    "product['purchace_date'] =  product['order_purchase_timestamp'].dt.strftime('%m-%Y')\n",
    "product['Period'] = product.year_order.astype(str).str.cat(product.month_order.astype(str), sep='/')\n",
    "product['order_delivered_date'] = product['order_delivered_customer_date'].dt.to_period('M').astype('str')\n",
    "product['month_delivered'] =  pd.DatetimeIndex(product['order_delivered_date']).month\n",
    "\n",
    "# Le temps mis entre l'achat d'un produit et sa livraison\n",
    "product['order_process_time'] = product['order_delivered_customer_date'] - product['order_purchase_timestamp']\n",
    "\n",
    "# Délais de livraison de produits aux clients en nombre de jours\n",
    "product['delivery_delay_days'] = product['order_process_time'].dt.days\n",
    "\n",
    "# Calculer le différence en temps entre la date de livraison prévu et la date réelle de livraison \n",
    "product['difference_in_delivery'] = product['order_estimated_delivery_date'] - product['order_delivered_customer_date']\n",
    "# Afficher la différence en jours seulement\n",
    "product['difference_delivery_days'] = product['difference_in_delivery'].dt.days\n",
    "\n",
    "# Si la difference est négative (donc il y a un retard dans la livraison du produit), changer la valeur en 'Late_delivery'\n",
    "product['difference_delivery_days'].mask(product['difference_delivery_days'] <=0 ,'Late_delivery', inplace=True)\n"
   ]
  },
  {
   "cell_type": "markdown",
   "id": "efd7e1ea-71d8-422b-b825-139177a68bbe",
   "metadata": {},
   "source": [
    "2) Création de catégories plus simples"
   ]
  },
  {
   "cell_type": "code",
   "execution_count": 12,
   "id": "d778abf8-13b6-4a00-b958-deeb5d0f42e2",
   "metadata": {},
   "outputs": [],
   "source": [
    "    \n",
    "# classer les mois en fonction de la saison\n",
    "\n",
    "seasons_names_dict = {1 : 'winter',\n",
    "                      2 : 'winter',\n",
    "                      12 : 'winter',\n",
    "                      \n",
    "                      3 : 'spring',\n",
    "                      4 : 'spring',\n",
    "                      5 : 'spring',\n",
    "                      \n",
    "                      6 : 'summer',\n",
    "                      7 : 'summer',\n",
    "                      8 : 'summer',\n",
    "                      \n",
    "                      9 : 'autumn',\n",
    "                      10 : 'autumn',\n",
    "                      11 : 'autumn',\n",
    "    \n",
    "}\n",
    "\n",
    "# Remap category to seasons\n",
    "product['delivery_season']  = product['month_delivered'].replace(seasons_names_dict)  \n",
    "\n"
   ]
  },
  {
   "cell_type": "code",
   "execution_count": 13,
   "id": "8f7300ff-5601-4aa8-b810-8f86a014b866",
   "metadata": {},
   "outputs": [],
   "source": [
    "# Création des catégories plus globales pour les produits \n",
    "\n",
    "product_categories_dict = {\n",
    "    'construction_tools_construction': 'home_$_electonics',\n",
    "    'construction_tools_lights': 'home_$_electonics',\n",
    "    'construction_tools_safety': 'home_$_electonics',\n",
    "    'costruction_tools_garden': 'home_$_electonics',\n",
    "    'costruction_tools_tools': 'home_$_electonics',\n",
    "    'garden_tools': 'home_$_electonics',\n",
    "    'home_construction': 'home_$_electonics',\n",
    "    'furniture_bedroom': 'home_$_electonics',\n",
    "    'furniture_decor': 'home_$_electonics',\n",
    "    'furniture_living_room': 'home_$_electonics',\n",
    "    'furniture_mattress_and_upholstery': 'home_$_electonics',\n",
    "    'bed_bath_table': 'home_$_electonics',\n",
    "    'kitchen_dining_laundry_garden_furniture': 'home_$_electonics',\n",
    "    'office_furniture': 'home_$_electonics',\n",
    "    'home_appliances': 'home_$_electonics',\n",
    "    'home_appliances_2': 'home_$_electonics',\n",
    "    'home_comfort_2': 'home_$_electonics',\n",
    "    'home_confort': 'home_$_electonics',\n",
    "    'air_conditioning': 'home_$_electonics',\n",
    "    'housewares': 'home_$_electonics',\n",
    "    'art': 'home_$_electonics',\n",
    "    'arts_and_craftmanship': 'home_$_electonics',\n",
    "    'cool_stuff': 'home_$_electonics',\n",
    "\n",
    "    'electronics': 'home_$_electonics',\n",
    "    'audio': 'home_$_electonics',\n",
    "    'tablets_printing_image': 'home_$_electonics',\n",
    "    'telephony': 'home_$_electonics',\n",
    "    'fixed_telephony': 'home_$_electonics',\n",
    "    'small_appliances': 'home_$_electonics',\n",
    "    'small_appliances_home_oven_and_coffee': 'home_$_electonics',\n",
    "    'computers_accessories': 'home_$_electonics',\n",
    "    'computers': 'home_$_electonics',\n",
    "\n",
    "    'fashio_female_clothing': 'fashion',\n",
    "    'fashion_bags_accessories': 'fashion',\n",
    "    'fashion_childrens_clothes': 'fashion',\n",
    "    'fashion_male_clothing': 'fashion',\n",
    "    'fashion_shoes': 'fashion',\n",
    "    'fashion_sport': 'fashion',\n",
    "    'fashion_underwear_beach': 'fashion',\n",
    "    'watches_gifts': 'fashion',\n",
    "    'luggage_accessories' : 'fashion',\n",
    "\n",
    "\n",
    "    'drinks': 'groceries',\n",
    "    'food': 'groceries',\n",
    "    'food_drink': 'groceries',\n",
    "    'la_cuisine': 'groceries',\n",
    "    'flowers': 'groceries',\n",
    "\n",
    "    'health_beauty': 'groceries',\n",
    "    'perfumery': 'groceries',\n",
    "    'diapers_and_hygiene': 'groceries',\n",
    "    'baby': 'groceries',\n",
    "\n",
    "    'christmas_supplies': 'groceries',\n",
    "    'stationery': 'groceries',\n",
    "    'party_supplies': 'groceries',\n",
    "    'auto': 'groceries',\n",
    "    \n",
    "    'sports_leisure': 'leisure',\n",
    "    'consoles_games': 'leisure',\n",
    "    'musical_instruments': 'leisure',\n",
    "    'toys': 'leisure',\n",
    "    'cine_photo': 'leisure',\n",
    "    'dvds_blu_ray': 'leisure',\n",
    "    'cds_dvds_musicals': 'leisure',\n",
    "    'music': 'leisure',\n",
    "    'books_general_interest': 'leisure',\n",
    "    'books_imported': 'leisure',\n",
    "    'books_technical': 'leisure',\n",
    "\n",
    "    \n",
    "\n",
    "    'agro_industry_and_commerce': 'services',\n",
    "    'industry_commerce_and_business': 'services',\n",
    "    'security_and_services': 'services',\n",
    "    'signaling_and_security': 'services',\n",
    "    'market_place': 'services',\n",
    "    'pet_shop': 'services',\n",
    "}\n",
    "\n",
    "# Remplacer les catégories par les nouelles\n",
    "product['product_category']  = \\\n",
    "    product['product_category_name_english'] \\\n",
    "    .replace(product_categories_dict)"
   ]
  },
  {
   "cell_type": "code",
   "execution_count": 31,
   "id": "c77d13a7-1719-4799-a911-e014d08f7ba6",
   "metadata": {},
   "outputs": [],
   "source": [
    "Region_dict = {\n",
    "    'AC':'North_region',\n",
    "    'AM': 'North_region',\n",
    "    'AP': 'North_region',\n",
    "    'PA': 'North_region',\n",
    "    'RO':'North_region', \n",
    "    'RR':'North_region',\n",
    "    'TO': 'North_region',\n",
    "    'RN': 'North_region',\n",
    "    \n",
    "    'MA': 'Northeast_region',\n",
    "    'CE': 'Northeast_region',\n",
    "    'RS': 'Northeast_region',\n",
    "    'PB': 'Northeast_region',\n",
    "    'PE': 'Northeast_region',\n",
    "    'AL': 'Northeast_region',\n",
    "    'SE': 'Northeast_region',\n",
    "    'BA': 'Northeast_region',\n",
    "    'PI': 'Northeast_region',\n",
    "\n",
    "    'MG': 'Southesar_region',\n",
    "    'SP': 'Southesar_region',\n",
    "    'RJ' :'Southesar_region',\n",
    "    'ES':'Southesar_region',\n",
    "    \n",
    "    'MS': 'Central_West_region',\n",
    "    'GO': 'Central_West_region',\n",
    "    'MS': 'Central_West_region',\n",
    "    'MT': 'Central_West_region',\n",
    "    'DF': 'Central_West_region',\n",
    "    \n",
    "    'SC': 'South_region',\n",
    "    'PR': 'South_region',\n",
    "    'RS': 'South_region', \n",
    "}\n",
    "\n",
    "\n",
    "# Remap category to main category\n",
    "product['Region']  = \\\n",
    "    product['customer_state'] \\\n",
    "    .replace(Region_dict)\n"
   ]
  },
  {
   "cell_type": "code",
   "execution_count": 14,
   "id": "fef8ca92-0968-4d7e-8f70-4fbc2e0a7cb9",
   "metadata": {},
   "outputs": [],
   "source": [
    "#Transformer les commentaires laissés par les clients en nombre de caractères\n",
    "product['Comment_Len'] = product['review_comment_message'].astype(str).map(len)"
   ]
  },
  {
   "cell_type": "code",
   "execution_count": 15,
   "id": "73063d0e-1bd7-420e-b4a4-61740fcfdb6e",
   "metadata": {},
   "outputs": [],
   "source": [
    "# Savegarder les données\n",
    "product.to_csv('product.csv', index = False)"
   ]
  },
  {
   "cell_type": "code",
   "execution_count": 3,
   "id": "6f050ada-3aa9-47df-aa09-74de7f8a4a87",
   "metadata": {},
   "outputs": [],
   "source": [
    "product = pd.read_csv('product.csv')"
   ]
  },
  {
   "cell_type": "code",
   "execution_count": 4,
   "id": "a83aee30-4cb8-4601-ab5f-5fa594ae6860",
   "metadata": {},
   "outputs": [
    {
     "data": {
      "text/html": [
       "<div>\n",
       "<style scoped>\n",
       "    .dataframe tbody tr th:only-of-type {\n",
       "        vertical-align: middle;\n",
       "    }\n",
       "\n",
       "    .dataframe tbody tr th {\n",
       "        vertical-align: top;\n",
       "    }\n",
       "\n",
       "    .dataframe thead th {\n",
       "        text-align: right;\n",
       "    }\n",
       "</style>\n",
       "<table border=\"1\" class=\"dataframe\">\n",
       "  <thead>\n",
       "    <tr style=\"text-align: right;\">\n",
       "      <th></th>\n",
       "      <th>order_id</th>\n",
       "      <th>customer_id</th>\n",
       "      <th>order_status</th>\n",
       "      <th>order_purchase_timestamp</th>\n",
       "      <th>order_approved_at</th>\n",
       "      <th>order_delivered_carrier_date</th>\n",
       "      <th>order_delivered_customer_date</th>\n",
       "      <th>order_estimated_delivery_date</th>\n",
       "      <th>review_id</th>\n",
       "      <th>review_score</th>\n",
       "      <th>...</th>\n",
       "      <th>Period</th>\n",
       "      <th>order_delivered_date</th>\n",
       "      <th>month_delivered</th>\n",
       "      <th>order_process_time</th>\n",
       "      <th>delivery_delay_days</th>\n",
       "      <th>difference_in_delivery</th>\n",
       "      <th>difference_delivery_days</th>\n",
       "      <th>delivery_season</th>\n",
       "      <th>product_category</th>\n",
       "      <th>Comment_Len</th>\n",
       "    </tr>\n",
       "  </thead>\n",
       "  <tbody>\n",
       "    <tr>\n",
       "      <th>0</th>\n",
       "      <td>e481f51cbdc54678b7cc49136f2d6af7</td>\n",
       "      <td>9ef432eb6251297304e76186b10a928d</td>\n",
       "      <td>delivered</td>\n",
       "      <td>2017-10-02 10:56:33</td>\n",
       "      <td>2017-10-02 11:07:15</td>\n",
       "      <td>2017-10-04 19:55:00</td>\n",
       "      <td>2017-10-10 21:25:13</td>\n",
       "      <td>2017-10-18</td>\n",
       "      <td>a54f0611adc9ed256b57ede6b6eb5114</td>\n",
       "      <td>4</td>\n",
       "      <td>...</td>\n",
       "      <td>2017/10</td>\n",
       "      <td>2017-10</td>\n",
       "      <td>10.0</td>\n",
       "      <td>8 days 10:28:40</td>\n",
       "      <td>8.0</td>\n",
       "      <td>7 days 02:34:47</td>\n",
       "      <td>7.0</td>\n",
       "      <td>autumn</td>\n",
       "      <td>home_$_electonics</td>\n",
       "      <td>170</td>\n",
       "    </tr>\n",
       "    <tr>\n",
       "      <th>1</th>\n",
       "      <td>e481f51cbdc54678b7cc49136f2d6af7</td>\n",
       "      <td>9ef432eb6251297304e76186b10a928d</td>\n",
       "      <td>delivered</td>\n",
       "      <td>2017-10-02 10:56:33</td>\n",
       "      <td>2017-10-02 11:07:15</td>\n",
       "      <td>2017-10-04 19:55:00</td>\n",
       "      <td>2017-10-10 21:25:13</td>\n",
       "      <td>2017-10-18</td>\n",
       "      <td>a54f0611adc9ed256b57ede6b6eb5114</td>\n",
       "      <td>4</td>\n",
       "      <td>...</td>\n",
       "      <td>2017/10</td>\n",
       "      <td>2017-10</td>\n",
       "      <td>10.0</td>\n",
       "      <td>8 days 10:28:40</td>\n",
       "      <td>8.0</td>\n",
       "      <td>7 days 02:34:47</td>\n",
       "      <td>7.0</td>\n",
       "      <td>autumn</td>\n",
       "      <td>home_$_electonics</td>\n",
       "      <td>170</td>\n",
       "    </tr>\n",
       "    <tr>\n",
       "      <th>2</th>\n",
       "      <td>e481f51cbdc54678b7cc49136f2d6af7</td>\n",
       "      <td>9ef432eb6251297304e76186b10a928d</td>\n",
       "      <td>delivered</td>\n",
       "      <td>2017-10-02 10:56:33</td>\n",
       "      <td>2017-10-02 11:07:15</td>\n",
       "      <td>2017-10-04 19:55:00</td>\n",
       "      <td>2017-10-10 21:25:13</td>\n",
       "      <td>2017-10-18</td>\n",
       "      <td>a54f0611adc9ed256b57ede6b6eb5114</td>\n",
       "      <td>4</td>\n",
       "      <td>...</td>\n",
       "      <td>2017/10</td>\n",
       "      <td>2017-10</td>\n",
       "      <td>10.0</td>\n",
       "      <td>8 days 10:28:40</td>\n",
       "      <td>8.0</td>\n",
       "      <td>7 days 02:34:47</td>\n",
       "      <td>7.0</td>\n",
       "      <td>autumn</td>\n",
       "      <td>home_$_electonics</td>\n",
       "      <td>170</td>\n",
       "    </tr>\n",
       "    <tr>\n",
       "      <th>3</th>\n",
       "      <td>53cdb2fc8bc7dce0b6741e2150273451</td>\n",
       "      <td>b0830fb4747a6c6d20dea0b8c802d7ef</td>\n",
       "      <td>delivered</td>\n",
       "      <td>2018-07-24 20:41:37</td>\n",
       "      <td>2018-07-26 03:24:27</td>\n",
       "      <td>2018-07-26 14:31:00</td>\n",
       "      <td>2018-08-07 15:27:45</td>\n",
       "      <td>2018-08-13</td>\n",
       "      <td>8d5266042046a06655c8db133d120ba5</td>\n",
       "      <td>4</td>\n",
       "      <td>...</td>\n",
       "      <td>2018/7</td>\n",
       "      <td>2018-08</td>\n",
       "      <td>8.0</td>\n",
       "      <td>13 days 18:46:08</td>\n",
       "      <td>13.0</td>\n",
       "      <td>5 days 08:32:15</td>\n",
       "      <td>5.0</td>\n",
       "      <td>summer</td>\n",
       "      <td>groceries</td>\n",
       "      <td>20</td>\n",
       "    </tr>\n",
       "    <tr>\n",
       "      <th>4</th>\n",
       "      <td>47770eb9100c2d0c44946d9cf07ec65d</td>\n",
       "      <td>41ce2a54c0b03bf3443c3d931a367089</td>\n",
       "      <td>delivered</td>\n",
       "      <td>2018-08-08 08:38:49</td>\n",
       "      <td>2018-08-08 08:55:23</td>\n",
       "      <td>2018-08-08 13:50:00</td>\n",
       "      <td>2018-08-17 18:06:29</td>\n",
       "      <td>2018-09-04</td>\n",
       "      <td>e73b67b67587f7644d5bd1a52deb1b01</td>\n",
       "      <td>5</td>\n",
       "      <td>...</td>\n",
       "      <td>2018/8</td>\n",
       "      <td>2018-08</td>\n",
       "      <td>8.0</td>\n",
       "      <td>9 days 09:27:40</td>\n",
       "      <td>9.0</td>\n",
       "      <td>17 days 05:53:31</td>\n",
       "      <td>17.0</td>\n",
       "      <td>summer</td>\n",
       "      <td>groceries</td>\n",
       "      <td>3</td>\n",
       "    </tr>\n",
       "  </tbody>\n",
       "</table>\n",
       "<p>5 rows × 55 columns</p>\n",
       "</div>"
      ],
      "text/plain": [
       "                           order_id                       customer_id  \\\n",
       "0  e481f51cbdc54678b7cc49136f2d6af7  9ef432eb6251297304e76186b10a928d   \n",
       "1  e481f51cbdc54678b7cc49136f2d6af7  9ef432eb6251297304e76186b10a928d   \n",
       "2  e481f51cbdc54678b7cc49136f2d6af7  9ef432eb6251297304e76186b10a928d   \n",
       "3  53cdb2fc8bc7dce0b6741e2150273451  b0830fb4747a6c6d20dea0b8c802d7ef   \n",
       "4  47770eb9100c2d0c44946d9cf07ec65d  41ce2a54c0b03bf3443c3d931a367089   \n",
       "\n",
       "  order_status order_purchase_timestamp    order_approved_at  \\\n",
       "0    delivered      2017-10-02 10:56:33  2017-10-02 11:07:15   \n",
       "1    delivered      2017-10-02 10:56:33  2017-10-02 11:07:15   \n",
       "2    delivered      2017-10-02 10:56:33  2017-10-02 11:07:15   \n",
       "3    delivered      2018-07-24 20:41:37  2018-07-26 03:24:27   \n",
       "4    delivered      2018-08-08 08:38:49  2018-08-08 08:55:23   \n",
       "\n",
       "  order_delivered_carrier_date order_delivered_customer_date  \\\n",
       "0          2017-10-04 19:55:00           2017-10-10 21:25:13   \n",
       "1          2017-10-04 19:55:00           2017-10-10 21:25:13   \n",
       "2          2017-10-04 19:55:00           2017-10-10 21:25:13   \n",
       "3          2018-07-26 14:31:00           2018-08-07 15:27:45   \n",
       "4          2018-08-08 13:50:00           2018-08-17 18:06:29   \n",
       "\n",
       "  order_estimated_delivery_date                         review_id  \\\n",
       "0                    2017-10-18  a54f0611adc9ed256b57ede6b6eb5114   \n",
       "1                    2017-10-18  a54f0611adc9ed256b57ede6b6eb5114   \n",
       "2                    2017-10-18  a54f0611adc9ed256b57ede6b6eb5114   \n",
       "3                    2018-08-13  8d5266042046a06655c8db133d120ba5   \n",
       "4                    2018-09-04  e73b67b67587f7644d5bd1a52deb1b01   \n",
       "\n",
       "   review_score  ...   Period order_delivered_date month_delivered  \\\n",
       "0             4  ...  2017/10              2017-10            10.0   \n",
       "1             4  ...  2017/10              2017-10            10.0   \n",
       "2             4  ...  2017/10              2017-10            10.0   \n",
       "3             4  ...   2018/7              2018-08             8.0   \n",
       "4             5  ...   2018/8              2018-08             8.0   \n",
       "\n",
       "  order_process_time  delivery_delay_days difference_in_delivery  \\\n",
       "0    8 days 10:28:40                  8.0        7 days 02:34:47   \n",
       "1    8 days 10:28:40                  8.0        7 days 02:34:47   \n",
       "2    8 days 10:28:40                  8.0        7 days 02:34:47   \n",
       "3   13 days 18:46:08                 13.0        5 days 08:32:15   \n",
       "4    9 days 09:27:40                  9.0       17 days 05:53:31   \n",
       "\n",
       "   difference_delivery_days  delivery_season   product_category  Comment_Len  \n",
       "0                       7.0           autumn  home_$_electonics          170  \n",
       "1                       7.0           autumn  home_$_electonics          170  \n",
       "2                       7.0           autumn  home_$_electonics          170  \n",
       "3                       5.0           summer          groceries           20  \n",
       "4                      17.0           summer          groceries            3  \n",
       "\n",
       "[5 rows x 55 columns]"
      ]
     },
     "execution_count": 4,
     "metadata": {},
     "output_type": "execute_result"
    }
   ],
   "source": [
    "product.head()"
   ]
  },
  {
   "cell_type": "code",
   "execution_count": 6,
   "id": "34e80b56-69e2-447d-be2b-ef934194594f",
   "metadata": {},
   "outputs": [
    {
     "data": {
      "text/plain": [
       "Index(['order_id', 'customer_id', 'order_status', 'order_purchase_timestamp',\n",
       "       'order_approved_at', 'order_delivered_carrier_date',\n",
       "       'order_delivered_customer_date', 'order_estimated_delivery_date',\n",
       "       'review_id', 'review_score', 'review_comment_title',\n",
       "       'review_comment_message', 'review_creation_date',\n",
       "       'review_answer_timestamp', 'payment_sequential', 'payment_type',\n",
       "       'payment_installments', 'payment_value', 'customer_unique_id',\n",
       "       'zip_code_prefix', 'customer_city', 'customer_state', 'order_item_id',\n",
       "       'product_id', 'seller_id', 'shipping_limit_date', 'price',\n",
       "       'freight_value', 'geolocation_lat', 'geolocation_lng',\n",
       "       'geolocation_city', 'geolocation_state', 'product_category_name',\n",
       "       'product_name_lenght', 'product_description_lenght',\n",
       "       'product_photos_qty', 'product_weight_g', 'product_length_cm',\n",
       "       'product_height_cm', 'product_width_cm',\n",
       "       'product_category_name_english', 'Month_order', 'year_order',\n",
       "       'month_order', 'purchace_date', 'Period', 'order_delivered_date',\n",
       "       'month_delivered', 'order_process_time', 'delivery_delay_days',\n",
       "       'difference_in_delivery', 'difference_delivery_days', 'delivery_season',\n",
       "       'product_category', 'Comment_Len'],\n",
       "      dtype='object')"
      ]
     },
     "execution_count": 6,
     "metadata": {},
     "output_type": "execute_result"
    }
   ],
   "source": [
    "product.columns"
   ]
  },
  {
   "cell_type": "code",
   "execution_count": 5,
   "id": "6cb62b86-0643-4d6a-9d90-2836e81389c5",
   "metadata": {},
   "outputs": [
    {
     "data": {
      "text/plain": [
       "(118315, 55)"
      ]
     },
     "execution_count": 5,
     "metadata": {},
     "output_type": "execute_result"
    }
   ],
   "source": [
    "product.shape"
   ]
  },
  {
   "cell_type": "code",
   "execution_count": 8,
   "id": "295925ce-adda-4499-b5bb-f96e91cb9c22",
   "metadata": {},
   "outputs": [
    {
     "data": {
      "text/plain": [
       "95419"
      ]
     },
     "execution_count": 8,
     "metadata": {},
     "output_type": "execute_result"
    }
   ],
   "source": [
    "product['customer_unique_id'].nunique()"
   ]
  },
  {
   "cell_type": "markdown",
   "id": "df2c5db6-b72a-4ed1-8b9d-a2db2978135a",
   "metadata": {},
   "source": [
    "3) Aggregation par clients et création de nouvelles colonnes"
   ]
  },
  {
   "cell_type": "code",
   "execution_count": 16,
   "id": "3c895657-35c5-4987-80b1-af05759d7f83",
   "metadata": {},
   "outputs": [],
   "source": [
    "# Grouper par les clients uniques \n",
    "df_group = product.groupby('customer_unique_id')"
   ]
  },
  {
   "cell_type": "code",
   "execution_count": 17,
   "id": "564b0c78-557e-4e0e-a45c-325bf55be0ba",
   "metadata": {},
   "outputs": [],
   "source": [
    "# Calcule de nombre de commandes par client\n",
    "nb_orders_per_customer = df_group['order_id'].nunique().to_frame().reset_index()\n",
    "# Renommer la colonne \n",
    "nb_orders_per_customer.rename(columns={'order_id' : 'nb_orders_per_customer'}, inplace=True)"
   ]
  },
  {
   "cell_type": "code",
   "execution_count": 18,
   "id": "aaa97c04-e223-4988-89ea-ed979a257fa4",
   "metadata": {},
   "outputs": [],
   "source": [
    "# Longueur du commentaire laissé par le client\n",
    "# Pour chaque client on va adittionner le nobre de charactère laissé en commentaire pour chaqu'une de ses commandes (s'il y en a )\n",
    "Comment_Length = df_group['Comment_Len'].sum().to_frame().round().reset_index() "
   ]
  },
  {
   "cell_type": "code",
   "execution_count": 19,
   "id": "ab2f1974-d721-4ac5-8cfb-00bc3847b229",
   "metadata": {},
   "outputs": [],
   "source": [
    "# Calculer la moyenne de review_score\n",
    "review_score= df_group['review_score'].mean().to_frame().reset_index()"
   ]
  },
  {
   "cell_type": "code",
   "execution_count": 20,
   "id": "e70f242b-ebcd-4fa3-ac10-13b408de370a",
   "metadata": {},
   "outputs": [],
   "source": [
    "#nombre de paiements pour une commande quelque soit le moyen de paiement ( en combien de fois le client a payé)\n",
    "payment_sequential = df_group['payment_sequential'].count().to_frame().reset_index()"
   ]
  },
  {
   "cell_type": "code",
   "execution_count": 21,
   "id": "fe89aaef-5eb5-4b11-b806-6d79771e1c05",
   "metadata": {},
   "outputs": [],
   "source": [
    "# Le nombre de paiments effectuées par tranches par client unique\n",
    "# On calcule la valeur moyenne de tranches payés par chaque client\n",
    "payment_installments= df_group['payment_installments'].mean().to_frame().reset_index()"
   ]
  },
  {
   "cell_type": "code",
   "execution_count": 22,
   "id": "cfefe192-3bb6-45e4-b1d5-e862c7f14778",
   "metadata": {},
   "outputs": [],
   "source": [
    "# La somme d'argent payée par chaque client pour toutes ses commandes\n",
    "payment_value = df_group['payment_value'].sum().to_frame().reset_index()"
   ]
  },
  {
   "cell_type": "code",
   "execution_count": 23,
   "id": "78d93db3-f92d-4b9d-a44d-1b9bc24a35ce",
   "metadata": {},
   "outputs": [],
   "source": [
    "delivery_delay_days= df_group['delivery_delay_days'].mean().to_frame().reset_index()"
   ]
  },
  {
   "cell_type": "markdown",
   "id": "313e860d-3738-432c-a329-afc312ba6555",
   "metadata": {},
   "source": [
    "#### Les features suivants sont le résultats de suites d'opérations sur les colones après le regroupement de ces derners par le client unique.\n",
    "Nous avons fait par étape:\n",
    "\n",
    "    - relevé les valeurs uniques (unique())\n",
    "    - mis sous forme de dataframe (to_frame)\n",
    "    - selectionné la première valeure relevée par unique() car il y 'a plusiers valeurs correspondnates pour le même client et on veut garder la plus pertinenete (plus fréquente)\n",
    "    - remettre l'indexation à 0 (reset_index())"
   ]
  },
  {
   "cell_type": "code",
   "execution_count": 55,
   "id": "1cdf8ee0-7124-4ab9-a3de-6fd0e8181afe",
   "metadata": {},
   "outputs": [],
   "source": [
    "# Pour un client unique il peut y avoir plusieurs valeurs correspondant à la ville, \n",
    "#on va ici récupérer les valeurs uniques ensuite avec la fonction lambda récuperer une seule ville ( en première position)\n",
    "city = df_group['customer_city'].unique().to_frame().apply(lambda x : [y[0] for y in x]).reset_index()\n",
    "city.rename(columns={'customer_city': 'city'}, inplace= True)"
   ]
  },
  {
   "cell_type": "code",
   "execution_count": 57,
   "id": "bc6a5f6d-43f0-4747-b5df-569e7b805977",
   "metadata": {},
   "outputs": [],
   "source": [
    "zip_code = df_group['zip_code_prefix'].unique().to_frame().apply(lambda x :   [y[0] for y in x]).reset_index()\n",
    "zip_code.rename(columns={'zip_code_prefix':'zip_code'},inplace=True)"
   ]
  },
  {
   "cell_type": "code",
   "execution_count": 58,
   "id": "810c4d80-9bae-41cc-a9c6-68bb57d99bb9",
   "metadata": {},
   "outputs": [],
   "source": [
    "state = df_group['customer_state'].unique().to_frame().apply(lambda x :   [y[0] for y in x]).reset_index()\n",
    "state.rename(columns={'customer_state': 'state'}, inplace = True)"
   ]
  },
  {
   "cell_type": "code",
   "execution_count": 32,
   "id": "119b2351-09af-4fdb-a268-b1de1fc0d2f9",
   "metadata": {},
   "outputs": [],
   "source": [
    "Region = df_group['Region'].unique().to_frame().apply(lambda x :   [y[0] for y in x]).reset_index()"
   ]
  },
  {
   "cell_type": "code",
   "execution_count": 59,
   "id": "8dffcd47-3655-489e-8258-95a890f7f479",
   "metadata": {},
   "outputs": [],
   "source": [
    "latitude = df_group['geolocation_lat'].unique().to_frame().apply(lambda x :   [y[0] for y in x]).reset_index()\n",
    "latitude.rename(columns={'geolocation_lat': 'latitude'}, inplace = True)"
   ]
  },
  {
   "cell_type": "code",
   "execution_count": 60,
   "id": "c738b8c7-60f5-4804-873a-1f6338900615",
   "metadata": {},
   "outputs": [],
   "source": [
    "longitude = df_group['geolocation_lng'].unique().to_frame().apply(lambda x :   [y[0] for y in x]).reset_index()\n",
    "longitude.rename(columns={'geolocation_lng': 'longitude'}, inplace = True)"
   ]
  },
  {
   "cell_type": "code",
   "execution_count": 35,
   "id": "4b39be8a-d78b-479d-a53b-f6dd4844af32",
   "metadata": {},
   "outputs": [],
   "source": [
    "product_category = df_group['product_category'].unique().to_frame().apply(lambda x :   [y[0] for y in x]).reset_index()"
   ]
  },
  {
   "cell_type": "code",
   "execution_count": 36,
   "id": "e964ee93-3ba8-4385-b213-20ff019e5d18",
   "metadata": {},
   "outputs": [],
   "source": [
    "product_photos_qty = df_group['product_photos_qty'].unique().to_frame().apply(lambda x : [y[0] for y in x]).reset_index()"
   ]
  },
  {
   "cell_type": "markdown",
   "id": "5441788f-1866-4c9d-bc23-f36ed6fcddc8",
   "metadata": {},
   "source": [
    "#### Les features suivants sont le résultats de suites d'opérations sur les colones après le regroupement de ces derniers par le client unique.\n",
    "Nous avons fait par étape:\n",
    "\n",
    "    - calculer le nombre de valeurs uniques pour chaque client pour le feature donné dans l'orde decroissant (lambda function)\n",
    "    - mise sous la forme de dataframe (to_frame)\n",
    "    - commencer l'indexation de lignes de 0 (reset_index)\n",
    "    - éliminer les colonnes crées dans le processus , qui ne sont pas nécessaires\n",
    "    - ou renommer certaines colonnes"
   ]
  },
  {
   "cell_type": "code",
   "execution_count": 37,
   "id": "a0002fae-9003-412b-983f-3a63b65a56c2",
   "metadata": {},
   "outputs": [],
   "source": [
    "# Type de paiement\n",
    "payment_type = df_group['payment_type'].apply(lambda x:x.value_counts(ascending=False).index[0]).reset_index()"
   ]
  },
  {
   "cell_type": "code",
   "execution_count": 62,
   "id": "715ff132-ccc2-480d-811f-ef0615927834",
   "metadata": {},
   "outputs": [],
   "source": [
    "product_category = df_group['product_category'].apply(lambda x:x.value_counts(ascending=False)).to_frame().reset_index().drop(['product_category'], axis = 1)\n",
    "product_category.rename(columns={'level_1':'product_category'},inplace=True) "
   ]
  },
  {
   "cell_type": "code",
   "execution_count": 39,
   "id": "f637c4ea-9a0c-4062-a235-b0409f9a2e7d",
   "metadata": {},
   "outputs": [],
   "source": [
    "delivery_season= df_group['delivery_season'].apply(lambda x:x.value_counts(ascending=False)).to_frame().reset_index().drop(['delivery_season'], axis= 1)"
   ]
  },
  {
   "cell_type": "code",
   "execution_count": 63,
   "id": "f4e942c4-dada-4308-bbc5-940ae31c8371",
   "metadata": {},
   "outputs": [],
   "source": [
    "month_order = df_group['month_order'].apply(lambda x:x.value_counts(ascending=False)).to_frame().reset_index().drop(['month_order'], axis= 1)\n",
    "month_order.rename(columns={'level_1':'month_order'},inplace=True) "
   ]
  },
  {
   "cell_type": "code",
   "execution_count": 64,
   "id": "d1815b8a-666d-4410-a85c-f4a06d335113",
   "metadata": {},
   "outputs": [],
   "source": [
    "year_order = df_group['year_order'].apply(lambda x:x.value_counts(ascending=False)).to_frame().reset_index().drop(['year_order'], axis= 1)\n",
    "year_order.rename(columns={'level_1':'year_order'},inplace=True) "
   ]
  },
  {
   "cell_type": "code",
   "execution_count": 65,
   "id": "00126a71-8df1-4351-8925-7a65defb4a68",
   "metadata": {},
   "outputs": [],
   "source": [
    "purchace_date = df_group['purchace_date'].apply(lambda x:x.value_counts(ascending=False)).to_frame().reset_index().drop(['purchace_date'], axis= 1)\n",
    "purchace_date.rename(columns={'level_1':'purchace_date'},inplace=True) "
   ]
  },
  {
   "cell_type": "code",
   "execution_count": 67,
   "id": "0a63893e-5829-4b12-8f76-ae156bb4fc94",
   "metadata": {},
   "outputs": [],
   "source": [
    "# Sauvegarder les features crées\n",
    "city.to_csv('city.csv', index = False)\n",
    "state.to_csv('state.csv', index = False)\n",
    "Region.to_csv('Region.csv', index = False)\n",
    "zip_code.to_csv('zip_code.csv', index = False)\n",
    "latitude.to_csv('latitude.csv', index = False)\n",
    "longitude.to_csv('longitude.csv', index = False)\n",
    "year_order.to_csv('year_order.csv', index = False)\n",
    "month_order.to_csv('month_order.csv', index = False)\n",
    "review_score.to_csv('review_score.csv', index = False)\n",
    "payment_type.to_csv('payment_type.csv', index = False)\n",
    "payment_value.to_csv('payment_value.csv', index = False)\n",
    "purchace_date.to_csv('purchace_date.csv', index = False)\n",
    "Comment_Length.to_csv('Comment_Length.csv', index = False)\n",
    "delivery_season.to_csv('delivery_season.csv', index = False)\n",
    "product_category.to_csv('product_category.csv', index = False)\n",
    "product_photos_qty.to_csv('product_photos_qty.csv', index = False)\n",
    "payment_sequential.to_csv('payment_sequential.csv', index = False)\n",
    "delivery_delay_days.to_csv('delivery_delay_days.csv', index = False)\n",
    "payment_installments.to_csv('payment_installments.csv', index = False)\n",
    "nb_orders_per_customer.to_csv('nb_orders_per_customer.csv', index = False)"
   ]
  },
  {
   "cell_type": "markdown",
   "id": "5e0ebbc6-9490-4dc0-a58c-89a7364713bd",
   "metadata": {},
   "source": [
    "4) Joindre des features crées en une seule dataframe ' data'"
   ]
  },
  {
   "cell_type": "code",
   "execution_count": 196,
   "id": "f3873c9d-e8e3-4819-ab59-fc5390f953ee",
   "metadata": {},
   "outputs": [],
   "source": [
    "# Fonction pour merger les dataframes\n",
    "list_of_dataframes_to_merge= [state, city,Region, zip_code, latitude, longitude, year_order, month_order,\n",
    "                              review_score,payment_type,payment_value, purchace_date,Comment_Length, \n",
    "                              delivery_season, product_category, product_photos_qty, payment_sequential, \n",
    "                              delivery_delay_days, payment_installments, nb_orders_per_customer]\n",
    "\n",
    "\n",
    "def dataframes_merger(list_of_dataframes_to_merge):\n",
    "    \"\"\" Cette fonction va merger toutes les dataframes obtenus après l'agrégation par clients\"\"\"\n",
    "    # Jointure des deux premièrs dataframes\n",
    "    data_merged = pd.merge(list_of_dataframes_to_merge[0], list_of_dataframes_to_merge[1], how='left', on='customer_unique_id')\n",
    "    \n",
    "   # Itération sur la liste contenant les noms de dataframes à merger et jointure sur 'customer_unique_id'\n",
    "    for i in range(2,19):\n",
    "    \n",
    "        data_merged = pd.merge(data_merged, list_of_dataframes_to_merge[i], how='left', on='customer_unique_id')\n",
    "    return data_merged\n",
    "    print('Daframes merged successfully')"
   ]
  },
  {
   "cell_type": "code",
   "execution_count": 197,
   "id": "aa1f36d6-14f8-4c32-9973-5da5657edf42",
   "metadata": {},
   "outputs": [],
   "source": [
    "data=dataframes_merger(list_of_dataframes_to_merge)"
   ]
  },
  {
   "cell_type": "code",
   "execution_count": 198,
   "id": "4a6b1973-59d5-4a7d-8a09-9abc2e0361e6",
   "metadata": {},
   "outputs": [
    {
     "data": {
      "text/plain": [
       "(126527, 20)"
      ]
     },
     "execution_count": 198,
     "metadata": {},
     "output_type": "execute_result"
    }
   ],
   "source": [
    "data.shape"
   ]
  },
  {
   "cell_type": "code",
   "execution_count": 12,
   "id": "58fe2dd8-173d-4a0e-a61c-774d53613233",
   "metadata": {},
   "outputs": [
    {
     "data": {
      "text/html": [
       "<div>\n",
       "<style scoped>\n",
       "    .dataframe tbody tr th:only-of-type {\n",
       "        vertical-align: middle;\n",
       "    }\n",
       "\n",
       "    .dataframe tbody tr th {\n",
       "        vertical-align: top;\n",
       "    }\n",
       "\n",
       "    .dataframe thead th {\n",
       "        text-align: right;\n",
       "    }\n",
       "</style>\n",
       "<table border=\"1\" class=\"dataframe\">\n",
       "  <thead>\n",
       "    <tr style=\"text-align: right;\">\n",
       "      <th></th>\n",
       "      <th>customer_unique_id</th>\n",
       "      <th>state</th>\n",
       "      <th>city</th>\n",
       "      <th>Region</th>\n",
       "      <th>zip_code</th>\n",
       "      <th>latitude</th>\n",
       "      <th>longitude</th>\n",
       "      <th>year_order</th>\n",
       "      <th>month_order</th>\n",
       "      <th>review_score</th>\n",
       "      <th>payment_type</th>\n",
       "      <th>payment_value</th>\n",
       "      <th>purchace_date</th>\n",
       "      <th>Comment_Len</th>\n",
       "      <th>delivery_season</th>\n",
       "      <th>product_category</th>\n",
       "      <th>product_photos_qty</th>\n",
       "      <th>payment_sequential</th>\n",
       "      <th>delivery_delay_days</th>\n",
       "      <th>payment_installments</th>\n",
       "    </tr>\n",
       "  </thead>\n",
       "  <tbody>\n",
       "    <tr>\n",
       "      <th>0</th>\n",
       "      <td>0000366f3b9a7992bf8c76cfdf3221e2</td>\n",
       "      <td>SP</td>\n",
       "      <td>cajamar</td>\n",
       "      <td>Southesar_region</td>\n",
       "      <td>7787</td>\n",
       "      <td>-23.335331</td>\n",
       "      <td>-46.828647</td>\n",
       "      <td>2018</td>\n",
       "      <td>5</td>\n",
       "      <td>5.0</td>\n",
       "      <td>credit_card</td>\n",
       "      <td>141.90</td>\n",
       "      <td>05-2018</td>\n",
       "      <td>111</td>\n",
       "      <td>spring</td>\n",
       "      <td>home_$_electonics</td>\n",
       "      <td>1.0</td>\n",
       "      <td>1</td>\n",
       "      <td>6.0</td>\n",
       "      <td>8.0</td>\n",
       "    </tr>\n",
       "    <tr>\n",
       "      <th>1</th>\n",
       "      <td>0000b849f77a49e4a4ce2b2a4ca5be3f</td>\n",
       "      <td>SP</td>\n",
       "      <td>osasco</td>\n",
       "      <td>Southesar_region</td>\n",
       "      <td>6053</td>\n",
       "      <td>-23.567395</td>\n",
       "      <td>-46.792957</td>\n",
       "      <td>2018</td>\n",
       "      <td>5</td>\n",
       "      <td>4.0</td>\n",
       "      <td>credit_card</td>\n",
       "      <td>27.19</td>\n",
       "      <td>05-2018</td>\n",
       "      <td>3</td>\n",
       "      <td>spring</td>\n",
       "      <td>groceries</td>\n",
       "      <td>1.0</td>\n",
       "      <td>1</td>\n",
       "      <td>3.0</td>\n",
       "      <td>1.0</td>\n",
       "    </tr>\n",
       "    <tr>\n",
       "      <th>2</th>\n",
       "      <td>0000f46a3911fa3c0805444483337064</td>\n",
       "      <td>SC</td>\n",
       "      <td>sao jose</td>\n",
       "      <td>South_region</td>\n",
       "      <td>88115</td>\n",
       "      <td>-27.543787</td>\n",
       "      <td>-48.625680</td>\n",
       "      <td>2017</td>\n",
       "      <td>3</td>\n",
       "      <td>3.0</td>\n",
       "      <td>credit_card</td>\n",
       "      <td>86.22</td>\n",
       "      <td>03-2017</td>\n",
       "      <td>3</td>\n",
       "      <td>spring</td>\n",
       "      <td>groceries</td>\n",
       "      <td>3.0</td>\n",
       "      <td>1</td>\n",
       "      <td>25.0</td>\n",
       "      <td>8.0</td>\n",
       "    </tr>\n",
       "    <tr>\n",
       "      <th>3</th>\n",
       "      <td>0000f6ccb0745a6a4b88665a16c9f078</td>\n",
       "      <td>PA</td>\n",
       "      <td>belem</td>\n",
       "      <td>North_region</td>\n",
       "      <td>66812</td>\n",
       "      <td>-1.311011</td>\n",
       "      <td>-48.482884</td>\n",
       "      <td>2017</td>\n",
       "      <td>10</td>\n",
       "      <td>4.0</td>\n",
       "      <td>credit_card</td>\n",
       "      <td>43.62</td>\n",
       "      <td>10-2017</td>\n",
       "      <td>12</td>\n",
       "      <td>autumn</td>\n",
       "      <td>home_$_electonics</td>\n",
       "      <td>5.0</td>\n",
       "      <td>1</td>\n",
       "      <td>20.0</td>\n",
       "      <td>4.0</td>\n",
       "    </tr>\n",
       "    <tr>\n",
       "      <th>4</th>\n",
       "      <td>0004aac84e0df4da2b147fca70cf8255</td>\n",
       "      <td>SP</td>\n",
       "      <td>sorocaba</td>\n",
       "      <td>Southesar_region</td>\n",
       "      <td>18040</td>\n",
       "      <td>-23.504368</td>\n",
       "      <td>-47.466156</td>\n",
       "      <td>2017</td>\n",
       "      <td>11</td>\n",
       "      <td>5.0</td>\n",
       "      <td>credit_card</td>\n",
       "      <td>196.89</td>\n",
       "      <td>11-2017</td>\n",
       "      <td>3</td>\n",
       "      <td>autumn</td>\n",
       "      <td>home_$_electonics</td>\n",
       "      <td>3.0</td>\n",
       "      <td>1</td>\n",
       "      <td>13.0</td>\n",
       "      <td>6.0</td>\n",
       "    </tr>\n",
       "  </tbody>\n",
       "</table>\n",
       "</div>"
      ],
      "text/plain": [
       "                 customer_unique_id state      city            Region  \\\n",
       "0  0000366f3b9a7992bf8c76cfdf3221e2    SP   cajamar  Southesar_region   \n",
       "1  0000b849f77a49e4a4ce2b2a4ca5be3f    SP    osasco  Southesar_region   \n",
       "2  0000f46a3911fa3c0805444483337064    SC  sao jose      South_region   \n",
       "3  0000f6ccb0745a6a4b88665a16c9f078    PA     belem      North_region   \n",
       "4  0004aac84e0df4da2b147fca70cf8255    SP  sorocaba  Southesar_region   \n",
       "\n",
       "   zip_code   latitude  longitude  year_order  month_order  review_score  \\\n",
       "0      7787 -23.335331 -46.828647        2018            5           5.0   \n",
       "1      6053 -23.567395 -46.792957        2018            5           4.0   \n",
       "2     88115 -27.543787 -48.625680        2017            3           3.0   \n",
       "3     66812  -1.311011 -48.482884        2017           10           4.0   \n",
       "4     18040 -23.504368 -47.466156        2017           11           5.0   \n",
       "\n",
       "  payment_type  payment_value purchace_date  Comment_Len delivery_season  \\\n",
       "0  credit_card         141.90       05-2018          111          spring   \n",
       "1  credit_card          27.19       05-2018            3          spring   \n",
       "2  credit_card          86.22       03-2017            3          spring   \n",
       "3  credit_card          43.62       10-2017           12          autumn   \n",
       "4  credit_card         196.89       11-2017            3          autumn   \n",
       "\n",
       "    product_category  product_photos_qty  payment_sequential  \\\n",
       "0  home_$_electonics                 1.0                   1   \n",
       "1          groceries                 1.0                   1   \n",
       "2          groceries                 3.0                   1   \n",
       "3  home_$_electonics                 5.0                   1   \n",
       "4  home_$_electonics                 3.0                   1   \n",
       "\n",
       "   delivery_delay_days  payment_installments  \n",
       "0                  6.0                   8.0  \n",
       "1                  3.0                   1.0  \n",
       "2                 25.0                   8.0  \n",
       "3                 20.0                   4.0  \n",
       "4                 13.0                   6.0  "
      ]
     },
     "execution_count": 12,
     "metadata": {},
     "output_type": "execute_result"
    }
   ],
   "source": [
    "data.head()"
   ]
  },
  {
   "cell_type": "code",
   "execution_count": 203,
   "id": "0318c422-6570-4262-a208-18c854acfcac",
   "metadata": {},
   "outputs": [],
   "source": [
    "data.rename(columns={'level_1':'delivery_season'},inplace=True) "
   ]
  },
  {
   "cell_type": "code",
   "execution_count": 204,
   "id": "4efc44e4-cdc6-4478-a387-7a9b32128ca2",
   "metadata": {},
   "outputs": [],
   "source": [
    "# Sauvegarde rla dataframe mergée\n",
    "data.to_csv('data.csv', index = False)"
   ]
  },
  {
   "cell_type": "code",
   "execution_count": 9,
   "id": "6560ed66-90cb-4045-bc09-96bc7d935650",
   "metadata": {},
   "outputs": [],
   "source": [
    "data = pd.read_csv('./data.csv')"
   ]
  },
  {
   "cell_type": "code",
   "execution_count": 11,
   "id": "96ae0957-167b-49ec-887c-20c07f50ccc0",
   "metadata": {},
   "outputs": [],
   "source": [
    "data = data.drop_duplicates(subset=['customer_unique_id'])"
   ]
  },
  {
   "cell_type": "code",
   "execution_count": 12,
   "id": "370973aa-629a-4011-86ce-63bd766dd7bb",
   "metadata": {},
   "outputs": [
    {
     "data": {
      "text/plain": [
       "(95419, 20)"
      ]
     },
     "execution_count": 12,
     "metadata": {},
     "output_type": "execute_result"
    }
   ],
   "source": [
    "data.shape"
   ]
  },
  {
   "cell_type": "markdown",
   "id": "058fe2c9-b154-4980-9f52-e8f79f9f33e8",
   "metadata": {},
   "source": [
    "IV) Analyse exploratoire\n",
    "\n",
    "    1) Visualisation des Etats qui achètent le plus\n",
    "    2) Les produits les plus vendus\n",
    "    3) L'évolution de la vente en fonction des mois de l'année\n",
    "    4) Représentation géographique de la consommation par les clients"
   ]
  },
  {
   "cell_type": "markdown",
   "id": "a69ba130-e21d-4d79-b634-b4f63386b4e5",
   "metadata": {},
   "source": [
    "1) Visualisation des Etats qui achètent le plus"
   ]
  },
  {
   "cell_type": "code",
   "execution_count": 122,
   "id": "465db6ec-36a8-4f94-9906-1c8ce9dbbaf6",
   "metadata": {},
   "outputs": [],
   "source": [
    "top_buying_states = data['state'].value_counts().sort_values(ascending=False)[:10]"
   ]
  },
  {
   "cell_type": "code",
   "execution_count": 123,
   "id": "f2f5470a-f109-4408-a5ad-a0bfbc276a20",
   "metadata": {},
   "outputs": [
    {
     "data": {
      "image/png": "[encoded data removed]",
      "text/plain": [
       "<Figure size 720x576 with 1 Axes>"
      ]
     },
     "metadata": {},
     "output_type": "display_data"
    }
   ],
   "source": [
    "# Les Etats d'ou sont généré le plus d'achats en ligne  \n",
    "top_buying_states.plot(kind='pie',figsize=(10,8),autopct='%.1f%%',radius=2)\n",
    "plt.legend()\n",
    "plt.show()"
   ]
  },
  {
   "cell_type": "markdown",
   "id": "d4c837b1-7cf1-4e43-87e4-24e33aca8442",
   "metadata": {},
   "source": [
    "2) Les produits les plus vendus"
   ]
  },
  {
   "cell_type": "code",
   "execution_count": 124,
   "id": "e1fe5bc8-7d3d-4b5e-8962-961af1e00504",
   "metadata": {},
   "outputs": [
    {
     "data": {
      "text/plain": [
       "Text(0, 0.5, 'Product Name')"
      ]
     },
     "execution_count": 124,
     "metadata": {},
     "output_type": "execute_result"
    },
    {
     "data": {
      "image/png": "[encoded data removed]",
      "text/plain": [
       "<Figure size 1152x648 with 1 Axes>"
      ]
     },
     "metadata": {
      "needs_background": "light"
     },
     "output_type": "display_data"
    }
   ],
   "source": [
    "Best_selling_products = data['product_category'].value_counts().sort_values(ascending=False)[:20]\n",
    "\n",
    "# Visualisation en bar\n",
    "fig=plt.figure(figsize=(16,9))\n",
    "sns.barplot(y=Best_selling_products.index,x=Best_selling_products.values)\n",
    "plt.title('Best Selling Products',fontsize=20)\n",
    "plt.xlabel('Total Products Sold',fontsize=17)\n",
    "plt.ylabel('Product Name',fontsize=17)"
   ]
  },
  {
   "cell_type": "markdown",
   "id": "724fe804-4bc1-4913-af1e-3823ee144946",
   "metadata": {},
   "source": [
    "3) L'évolution de la vente en fonction des mois de l'année"
   ]
  },
  {
   "cell_type": "code",
   "execution_count": 125,
   "id": "cc799160-403a-42a0-baf6-046f4ca9aacc",
   "metadata": {},
   "outputs": [
    {
     "data": {
      "text/plain": [
       "Text(0, 0.5, 'Orders')"
      ]
     },
     "execution_count": 125,
     "metadata": {},
     "output_type": "execute_result"
    },
    {
     "data": {
      "image/png": "[encoded data removed]",
      "text/plain": [
       "<Figure size 1152x648 with 1 Axes>"
      ]
     },
     "metadata": {
      "needs_background": "light"
     },
     "output_type": "display_data"
    }
   ],
   "source": [
    "order_count_by_month =data['month_order'].value_counts()\n",
    "\n",
    "                                                             \n",
    "                                                             \n",
    "#Visualisasi\n",
    "fig=plt.figure(figsize=(16,9))\n",
    "sns.barplot(y=order_count_by_month.values, x=order_count_by_month.index, color=\"Lightcoral\")\n",
    "plt.title('Monthly Number Of Orders',fontsize=20)\n",
    "plt.xlabel('Month & Year',fontsize=17)\n",
    "plt.xticks(rotation=90)\n",
    "plt.ylabel('Orders',fontsize=17)"
   ]
  },
  {
   "cell_type": "markdown",
   "id": "1ccef6c5-eaa5-4dbf-bf99-f006b6191efc",
   "metadata": {},
   "source": [
    "4) Représentation géographique de la consommation par les clients"
   ]
  },
  {
   "cell_type": "code",
   "execution_count": 126,
   "id": "7286093f-dab1-443d-810b-d729aeae929e",
   "metadata": {},
   "outputs": [
    {
     "data": {
      "text/plain": [
       "<matplotlib.legend.Legend at 0x2542d83acd0>"
      ]
     },
     "execution_count": 126,
     "metadata": {},
     "output_type": "execute_result"
    },
    {
     "data": {
      "image/png": "[encoded data removed]",
      "text/plain": [
       "<Figure size 1440x1224 with 2 Axes>"
      ]
     },
     "metadata": {
      "needs_background": "light"
     },
     "output_type": "display_data"
    }
   ],
   "source": [
    "data.plot(kind = \"scatter\", x = 'longitude', y = 'latitude', alpha = 0.5,\n",
    "                   s = data['nb_orders_per_customer'], label = 'nb_orders_per_customer', figsize = (20,17),\n",
    "                  c = 'nb_orders_per_customer', cmap = plt.get_cmap('jet'), colorbar= True, title = 'Représentation géographique de la consommation '\n",
    "                  )\n",
    "\n",
    "plt.legend()\n"
   ]
  },
  {
   "cell_type": "markdown",
   "id": "dfc18292-2cb2-4738-a561-ccd9e06401b7",
   "metadata": {},
   "source": [
    "V) Data preprocessing pour Machine Learning\n",
    "\n",
    "    1) Visualisation de la corrélation linéaire pour la sélection de features\n",
    "    2) Vérification de valeurs manquates et imputation par les valeurs modales\n",
    "    3) Suppresion de features redondantes et Encodage des variables categorielles\n",
    "    4) Normaliser les valuers \n",
    "    5) Sélection des features les plus intéressants selon la variance"
   ]
  },
  {
   "cell_type": "markdown",
   "id": "6ace8f9d-ce5f-4b65-abf6-0613a5a2b720",
   "metadata": {},
   "source": [
    "1) Visualisation de la corrélation linéaire pour la sélection de features"
   ]
  },
  {
   "cell_type": "code",
   "execution_count": 205,
   "id": "15cc1bda-28bc-454b-b762-46db202ff7c8",
   "metadata": {},
   "outputs": [
    {
     "data": {
      "image/png": "[encoded data removed]",
      "text/plain": [
       "<Figure size 1152x864 with 2 Axes>"
      ]
     },
     "metadata": {
      "needs_background": "light"
     },
     "output_type": "display_data"
    }
   ],
   "source": [
    "# Représentation en heatmap des corrélations linéaires entre les features de la dataframe = data finale après séléction de meilleurs features\n",
    "matrix = data.corr().abs()\n",
    "\n",
    "# Create a mask\n",
    "plt.figure(figsize=(16,12))\n",
    "\n",
    "# Création d'une palette de couleurs divergente\n",
    "cmap = sns.diverging_palette(250, 15, s=75, l=40,\n",
    "                             n=9, center=\"light\", as_cmap=True)\n",
    "mask = np.triu(np.ones_like(matrix, dtype=bool))\n",
    "_ = sns.heatmap(matrix, mask=mask, center=0, annot=True,\n",
    "             fmt='.2f', square=True, cmap=cmap)\n",
    "\n",
    "\n",
    "reduced_matrix = matrix.mask(mask)\n",
    "\n",
    "# This list comprehension finds all other columns that meet the threshold of 0.8. \n",
    "to_drop = [c for c in reduced_matrix.columns if any(reduced_matrix[c] > 0.8)]"
   ]
  },
  {
   "cell_type": "markdown",
   "id": "efd56b1d-e42b-4130-a0c1-478db8501acd",
   "metadata": {},
   "source": [
    "2) Vérification de valeurs manquates et imputation par les valeurs modales"
   ]
  },
  {
   "cell_type": "code",
   "execution_count": 206,
   "id": "20b1121d-108d-48b1-8fd9-0ad3b1190384",
   "metadata": {},
   "outputs": [
    {
     "name": "stdout",
     "output_type": "stream",
     "text": [
      "\n",
      "Number of rows with missing values: 4285 (4.11%)\n",
      "Number of columns with missing values: 6 (31.58%)\n"
     ]
    }
   ],
   "source": [
    "# calculer le nombre de lignes avec des valeurs manquantes\n",
    "\n",
    "mask = data.isnull().any(axis=1)\n",
    "rows_w_missing_values = len(data[mask])\n",
    "rows_w_missing_values_percentage = rows_w_missing_values / 104359 #nb_rows\n",
    "\n",
    "    # display results\n",
    "print(\"\")\n",
    "print(\"Number of rows with missing values: {} ({:.2%})\".format(rows_w_missing_values, rows_w_missing_values_percentage))\n",
    "\n",
    "    # compute number of columns with missing values\n",
    "mask = data.isnull().any(axis=0)\n",
    "cols_w_missing_values = len(data[data.columns[mask]].columns)\n",
    "cols_w_missing_values_percentage = cols_w_missing_values / 19 #nb_columns\n",
    "\n",
    "    # display results\n",
    "print(\"Number of columns with missing values: {} ({:.2%})\".format(cols_w_missing_values, cols_w_missing_values_percentage))"
   ]
  },
  {
   "cell_type": "code",
   "execution_count": 207,
   "id": "68e8b3b3-fdcf-42fb-8235-6e644ed1f391",
   "metadata": {},
   "outputs": [
    {
     "data": {
      "text/plain": [
       "Index(['customer_unique_id', 'state', 'city', 'Region', 'zip_code', 'latitude',\n",
       "       'longitude', 'year_order', 'month_order', 'review_score',\n",
       "       'payment_type', 'payment_value', 'purchace_date', 'Comment_Len',\n",
       "       'delivery_season', 'product_category', 'product_photos_qty',\n",
       "       'payment_sequential', 'delivery_delay_days', 'payment_installments'],\n",
       "      dtype='object')"
      ]
     },
     "execution_count": 207,
     "metadata": {},
     "output_type": "execute_result"
    }
   ],
   "source": [
    "data.columns"
   ]
  },
  {
   "cell_type": "code",
   "execution_count": 208,
   "id": "ca2d7fa3-ada4-4dd9-b6b4-ccedb28ad96d",
   "metadata": {},
   "outputs": [
    {
     "data": {
      "text/html": [
       "<div>\n",
       "<style scoped>\n",
       "    .dataframe tbody tr th:only-of-type {\n",
       "        vertical-align: middle;\n",
       "    }\n",
       "\n",
       "    .dataframe tbody tr th {\n",
       "        vertical-align: top;\n",
       "    }\n",
       "\n",
       "    .dataframe thead th {\n",
       "        text-align: right;\n",
       "    }\n",
       "</style>\n",
       "<table border=\"1\" class=\"dataframe\">\n",
       "  <thead>\n",
       "    <tr style=\"text-align: right;\">\n",
       "      <th></th>\n",
       "      <th>customer_unique_id</th>\n",
       "      <th>state</th>\n",
       "      <th>city</th>\n",
       "      <th>Region</th>\n",
       "      <th>zip_code</th>\n",
       "      <th>latitude</th>\n",
       "      <th>longitude</th>\n",
       "      <th>year_order</th>\n",
       "      <th>month_order</th>\n",
       "      <th>review_score</th>\n",
       "      <th>payment_type</th>\n",
       "      <th>payment_value</th>\n",
       "      <th>purchace_date</th>\n",
       "      <th>Comment_Len</th>\n",
       "      <th>delivery_season</th>\n",
       "      <th>product_category</th>\n",
       "      <th>product_photos_qty</th>\n",
       "      <th>payment_sequential</th>\n",
       "      <th>delivery_delay_days</th>\n",
       "      <th>payment_installments</th>\n",
       "    </tr>\n",
       "  </thead>\n",
       "  <tbody>\n",
       "    <tr>\n",
       "      <th>0</th>\n",
       "      <td>0000366f3b9a7992bf8c76cfdf3221e2</td>\n",
       "      <td>SP</td>\n",
       "      <td>cajamar</td>\n",
       "      <td>Southesar_region</td>\n",
       "      <td>7787</td>\n",
       "      <td>-23.335331</td>\n",
       "      <td>-46.828647</td>\n",
       "      <td>2018</td>\n",
       "      <td>5</td>\n",
       "      <td>5.0</td>\n",
       "      <td>credit_card</td>\n",
       "      <td>141.90</td>\n",
       "      <td>05-2018</td>\n",
       "      <td>111</td>\n",
       "      <td>spring</td>\n",
       "      <td>home_$_electonics</td>\n",
       "      <td>1.0</td>\n",
       "      <td>1</td>\n",
       "      <td>6.0</td>\n",
       "      <td>8.0</td>\n",
       "    </tr>\n",
       "    <tr>\n",
       "      <th>1</th>\n",
       "      <td>0000b849f77a49e4a4ce2b2a4ca5be3f</td>\n",
       "      <td>SP</td>\n",
       "      <td>osasco</td>\n",
       "      <td>Southesar_region</td>\n",
       "      <td>6053</td>\n",
       "      <td>-23.567395</td>\n",
       "      <td>-46.792957</td>\n",
       "      <td>2018</td>\n",
       "      <td>5</td>\n",
       "      <td>4.0</td>\n",
       "      <td>credit_card</td>\n",
       "      <td>27.19</td>\n",
       "      <td>05-2018</td>\n",
       "      <td>3</td>\n",
       "      <td>spring</td>\n",
       "      <td>groceries</td>\n",
       "      <td>1.0</td>\n",
       "      <td>1</td>\n",
       "      <td>3.0</td>\n",
       "      <td>1.0</td>\n",
       "    </tr>\n",
       "    <tr>\n",
       "      <th>2</th>\n",
       "      <td>0000f46a3911fa3c0805444483337064</td>\n",
       "      <td>SC</td>\n",
       "      <td>sao jose</td>\n",
       "      <td>South_region</td>\n",
       "      <td>88115</td>\n",
       "      <td>-27.543787</td>\n",
       "      <td>-48.625680</td>\n",
       "      <td>2017</td>\n",
       "      <td>3</td>\n",
       "      <td>3.0</td>\n",
       "      <td>credit_card</td>\n",
       "      <td>86.22</td>\n",
       "      <td>03-2017</td>\n",
       "      <td>3</td>\n",
       "      <td>spring</td>\n",
       "      <td>groceries</td>\n",
       "      <td>3.0</td>\n",
       "      <td>1</td>\n",
       "      <td>25.0</td>\n",
       "      <td>8.0</td>\n",
       "    </tr>\n",
       "    <tr>\n",
       "      <th>3</th>\n",
       "      <td>0000f6ccb0745a6a4b88665a16c9f078</td>\n",
       "      <td>PA</td>\n",
       "      <td>belem</td>\n",
       "      <td>North_region</td>\n",
       "      <td>66812</td>\n",
       "      <td>-1.311011</td>\n",
       "      <td>-48.482884</td>\n",
       "      <td>2017</td>\n",
       "      <td>10</td>\n",
       "      <td>4.0</td>\n",
       "      <td>credit_card</td>\n",
       "      <td>43.62</td>\n",
       "      <td>10-2017</td>\n",
       "      <td>12</td>\n",
       "      <td>autumn</td>\n",
       "      <td>home_$_electonics</td>\n",
       "      <td>5.0</td>\n",
       "      <td>1</td>\n",
       "      <td>20.0</td>\n",
       "      <td>4.0</td>\n",
       "    </tr>\n",
       "    <tr>\n",
       "      <th>4</th>\n",
       "      <td>0004aac84e0df4da2b147fca70cf8255</td>\n",
       "      <td>SP</td>\n",
       "      <td>sorocaba</td>\n",
       "      <td>Southesar_region</td>\n",
       "      <td>18040</td>\n",
       "      <td>-23.504368</td>\n",
       "      <td>-47.466156</td>\n",
       "      <td>2017</td>\n",
       "      <td>11</td>\n",
       "      <td>5.0</td>\n",
       "      <td>credit_card</td>\n",
       "      <td>196.89</td>\n",
       "      <td>11-2017</td>\n",
       "      <td>3</td>\n",
       "      <td>autumn</td>\n",
       "      <td>home_$_electonics</td>\n",
       "      <td>3.0</td>\n",
       "      <td>1</td>\n",
       "      <td>13.0</td>\n",
       "      <td>6.0</td>\n",
       "    </tr>\n",
       "  </tbody>\n",
       "</table>\n",
       "</div>"
      ],
      "text/plain": [
       "                 customer_unique_id state      city            Region  \\\n",
       "0  0000366f3b9a7992bf8c76cfdf3221e2    SP   cajamar  Southesar_region   \n",
       "1  0000b849f77a49e4a4ce2b2a4ca5be3f    SP    osasco  Southesar_region   \n",
       "2  0000f46a3911fa3c0805444483337064    SC  sao jose      South_region   \n",
       "3  0000f6ccb0745a6a4b88665a16c9f078    PA     belem      North_region   \n",
       "4  0004aac84e0df4da2b147fca70cf8255    SP  sorocaba  Southesar_region   \n",
       "\n",
       "   zip_code   latitude  longitude  year_order  month_order  review_score  \\\n",
       "0      7787 -23.335331 -46.828647        2018            5           5.0   \n",
       "1      6053 -23.567395 -46.792957        2018            5           4.0   \n",
       "2     88115 -27.543787 -48.625680        2017            3           3.0   \n",
       "3     66812  -1.311011 -48.482884        2017           10           4.0   \n",
       "4     18040 -23.504368 -47.466156        2017           11           5.0   \n",
       "\n",
       "  payment_type  payment_value purchace_date  Comment_Len delivery_season  \\\n",
       "0  credit_card         141.90       05-2018          111          spring   \n",
       "1  credit_card          27.19       05-2018            3          spring   \n",
       "2  credit_card          86.22       03-2017            3          spring   \n",
       "3  credit_card          43.62       10-2017           12          autumn   \n",
       "4  credit_card         196.89       11-2017            3          autumn   \n",
       "\n",
       "    product_category  product_photos_qty  payment_sequential  \\\n",
       "0  home_$_electonics                 1.0                   1   \n",
       "1          groceries                 1.0                   1   \n",
       "2          groceries                 3.0                   1   \n",
       "3  home_$_electonics                 5.0                   1   \n",
       "4  home_$_electonics                 3.0                   1   \n",
       "\n",
       "   delivery_delay_days  payment_installments  \n",
       "0                  6.0                   8.0  \n",
       "1                  3.0                   1.0  \n",
       "2                 25.0                   8.0  \n",
       "3                 20.0                   4.0  \n",
       "4                 13.0                   6.0  "
      ]
     },
     "execution_count": 208,
     "metadata": {},
     "output_type": "execute_result"
    }
   ],
   "source": [
    "data.head()"
   ]
  },
  {
   "cell_type": "code",
   "execution_count": 209,
   "id": "1bb347ec-a87b-4232-9031-a788f4e58f22",
   "metadata": {},
   "outputs": [
    {
     "data": {
      "text/plain": [
       "<AxesSubplot:>"
      ]
     },
     "execution_count": 209,
     "metadata": {},
     "output_type": "execute_result"
    },
    {
     "data": {
      "image/png": "[encoded data removed]",
      "text/plain": [
       "<Figure size 1800x720 with 2 Axes>"
      ]
     },
     "metadata": {
      "needs_background": "light"
     },
     "output_type": "display_data"
    }
   ],
   "source": [
    "# Visualiser les données manquantes\n",
    "msno.matrix(data)"
   ]
  },
  {
   "cell_type": "code",
   "execution_count": 210,
   "id": "b27e4499-342a-45db-9c31-89762530a182",
   "metadata": {},
   "outputs": [],
   "source": [
    "# les colonnes  présentent des valeurs nulles, remplassons les par les valeurs modales\n",
    "cols = data[['delivery_delay_days','product_category','delivery_season', 'product_photos_qty', 'latitude', 'longitude']]\n",
    "\n",
    "for col in cols.columns:\n",
    "    mode_data_cols = cols.mode()\n",
    "    \n",
    "modes = pd.DataFrame(mode_data_cols)\n"
   ]
  },
  {
   "cell_type": "code",
   "execution_count": 211,
   "id": "61af25cb-c77d-447f-af1e-eeff39ed19a6",
   "metadata": {},
   "outputs": [
    {
     "data": {
      "text/html": [
       "<div>\n",
       "<style scoped>\n",
       "    .dataframe tbody tr th:only-of-type {\n",
       "        vertical-align: middle;\n",
       "    }\n",
       "\n",
       "    .dataframe tbody tr th {\n",
       "        vertical-align: top;\n",
       "    }\n",
       "\n",
       "    .dataframe thead th {\n",
       "        text-align: right;\n",
       "    }\n",
       "</style>\n",
       "<table border=\"1\" class=\"dataframe\">\n",
       "  <thead>\n",
       "    <tr style=\"text-align: right;\">\n",
       "      <th></th>\n",
       "      <th>delivery_delay_days</th>\n",
       "      <th>product_category</th>\n",
       "      <th>delivery_season</th>\n",
       "      <th>product_photos_qty</th>\n",
       "      <th>latitude</th>\n",
       "      <th>longitude</th>\n",
       "    </tr>\n",
       "  </thead>\n",
       "  <tbody>\n",
       "    <tr>\n",
       "      <th>0</th>\n",
       "      <td>7.0</td>\n",
       "      <td>home_$_electonics</td>\n",
       "      <td>summer</td>\n",
       "      <td>1.0</td>\n",
       "      <td>-23.617639</td>\n",
       "      <td>-46.638981</td>\n",
       "    </tr>\n",
       "  </tbody>\n",
       "</table>\n",
       "</div>"
      ],
      "text/plain": [
       "   delivery_delay_days   product_category delivery_season  product_photos_qty  \\\n",
       "0                  7.0  home_$_electonics          summer                 1.0   \n",
       "\n",
       "    latitude  longitude  \n",
       "0 -23.617639 -46.638981  "
      ]
     },
     "execution_count": 211,
     "metadata": {},
     "output_type": "execute_result"
    }
   ],
   "source": [
    "modes"
   ]
  },
  {
   "cell_type": "code",
   "execution_count": 212,
   "id": "65ed0986-f058-4ae1-a4cf-a8ec39147a73",
   "metadata": {},
   "outputs": [],
   "source": [
    "values = {'delivery_delay_days': 7.0, 'delivery_season' : 'summer', 'product_category' : 'home_$_electonics','product_photos_qty': 1.0,  'latitude': -23.617639,'longitude': -46.638981, }\n",
    "data = data.fillna(value=values)"
   ]
  },
  {
   "cell_type": "markdown",
   "id": "fb81f4ab-f0d6-4c5a-bff9-cedd6e71b91d",
   "metadata": {},
   "source": [
    "3) Suppresion de features redondantes et Encodage des variables categorielles\n",
    "    "
   ]
  },
  {
   "cell_type": "code",
   "execution_count": 13,
   "id": "6d0cea53-c111-4c0c-a2c4-3835586b0159",
   "metadata": {},
   "outputs": [],
   "source": [
    "# Pour la partie ML nous allons réduire le dataframe pour garder les informations les plus pertinentes \n",
    "\n",
    "prereduced_data = data.drop(['city','state','payment_installments', 'payment_sequential','latitude','longitude', 'zip_code','product_photos_qty', 'month_order', 'year_order' ], axis = 1)"
   ]
  },
  {
   "cell_type": "code",
   "execution_count": 14,
   "id": "868d6507-cc11-4606-9dbe-ad308c15063b",
   "metadata": {},
   "outputs": [],
   "source": [
    "##prereduced_data['purchace_date'] = pd.to_datetime(prereduced_data.purchace_date)"
   ]
  },
  {
   "cell_type": "code",
   "execution_count": 15,
   "id": "d05cdd65-6a75-431c-8dad-aeb8d0c3ae07",
   "metadata": {},
   "outputs": [],
   "source": [
    "prereduced_data.to_csv('prereduced_data.csv', index = False)"
   ]
  },
  {
   "cell_type": "code",
   "execution_count": 17,
   "id": "f325ad48-d692-4b6a-b4df-4155b2fce764",
   "metadata": {},
   "outputs": [],
   "source": [
    "prereduced_data= pd.read_csv('./prereduced_data.csv')"
   ]
  },
  {
   "cell_type": "code",
   "execution_count": 18,
   "id": "5411501a-1317-4972-a084-afd06f9920ad",
   "metadata": {},
   "outputs": [
    {
     "data": {
      "text/plain": [
       "Index(['customer_unique_id', 'Region', 'review_score', 'payment_type',\n",
       "       'payment_value', 'purchace_date', 'Comment_Len', 'delivery_season',\n",
       "       'product_category', 'delivery_delay_days'],\n",
       "      dtype='object')"
      ]
     },
     "execution_count": 18,
     "metadata": {},
     "output_type": "execute_result"
    }
   ],
   "source": [
    "prereduced_data.columns"
   ]
  },
  {
   "cell_type": "code",
   "execution_count": 19,
   "id": "063ed994-6b60-42e7-8b06-e03c8a0ad156",
   "metadata": {},
   "outputs": [
    {
     "data": {
      "text/plain": [
       "95419"
      ]
     },
     "execution_count": 19,
     "metadata": {},
     "output_type": "execute_result"
    }
   ],
   "source": [
    "prereduced_data['customer_unique_id'].nunique()"
   ]
  },
  {
   "cell_type": "code",
   "execution_count": 21,
   "id": "8a580a8d-5e18-4894-96dc-3f3c48632539",
   "metadata": {},
   "outputs": [
    {
     "data": {
      "text/plain": [
       "126527"
      ]
     },
     "execution_count": 21,
     "metadata": {},
     "output_type": "execute_result"
    }
   ],
   "source": [
    "len(prereduced_data['purchace_date'])"
   ]
  },
  {
   "cell_type": "code",
   "execution_count": 216,
   "id": "919d8250-9778-4476-9a90-23ce71847ca5",
   "metadata": {},
   "outputs": [],
   "source": [
    "# Mise sous forme d'index de ces colonnes afin de pouvoir encoder le reste\n",
    "prereduced_data.set_index(['customer_unique_id', 'purchace_date'], inplace=True)"
   ]
  },
  {
   "cell_type": "code",
   "execution_count": 18,
   "id": "4637117f-6299-4e07-927b-00bd0b279e63",
   "metadata": {},
   "outputs": [
    {
     "data": {
      "text/html": [
       "<div>\n",
       "<style scoped>\n",
       "    .dataframe tbody tr th:only-of-type {\n",
       "        vertical-align: middle;\n",
       "    }\n",
       "\n",
       "    .dataframe tbody tr th {\n",
       "        vertical-align: top;\n",
       "    }\n",
       "\n",
       "    .dataframe thead th {\n",
       "        text-align: right;\n",
       "    }\n",
       "</style>\n",
       "<table border=\"1\" class=\"dataframe\">\n",
       "  <thead>\n",
       "    <tr style=\"text-align: right;\">\n",
       "      <th></th>\n",
       "      <th>customer_unique_id</th>\n",
       "      <th>Region</th>\n",
       "      <th>review_score</th>\n",
       "      <th>payment_type</th>\n",
       "      <th>payment_value</th>\n",
       "      <th>purchace_date</th>\n",
       "      <th>Comment_Len</th>\n",
       "      <th>delivery_season</th>\n",
       "      <th>product_category</th>\n",
       "      <th>delivery_delay_days</th>\n",
       "    </tr>\n",
       "  </thead>\n",
       "  <tbody>\n",
       "    <tr>\n",
       "      <th>0</th>\n",
       "      <td>0000366f3b9a7992bf8c76cfdf3221e2</td>\n",
       "      <td>Southesar_region</td>\n",
       "      <td>5.0</td>\n",
       "      <td>credit_card</td>\n",
       "      <td>141.90</td>\n",
       "      <td>05-2018</td>\n",
       "      <td>111</td>\n",
       "      <td>spring</td>\n",
       "      <td>home_$_electonics</td>\n",
       "      <td>6.0</td>\n",
       "    </tr>\n",
       "    <tr>\n",
       "      <th>1</th>\n",
       "      <td>0000b849f77a49e4a4ce2b2a4ca5be3f</td>\n",
       "      <td>Southesar_region</td>\n",
       "      <td>4.0</td>\n",
       "      <td>credit_card</td>\n",
       "      <td>27.19</td>\n",
       "      <td>05-2018</td>\n",
       "      <td>3</td>\n",
       "      <td>spring</td>\n",
       "      <td>groceries</td>\n",
       "      <td>3.0</td>\n",
       "    </tr>\n",
       "    <tr>\n",
       "      <th>2</th>\n",
       "      <td>0000f46a3911fa3c0805444483337064</td>\n",
       "      <td>South_region</td>\n",
       "      <td>3.0</td>\n",
       "      <td>credit_card</td>\n",
       "      <td>86.22</td>\n",
       "      <td>03-2017</td>\n",
       "      <td>3</td>\n",
       "      <td>spring</td>\n",
       "      <td>groceries</td>\n",
       "      <td>25.0</td>\n",
       "    </tr>\n",
       "    <tr>\n",
       "      <th>3</th>\n",
       "      <td>0000f6ccb0745a6a4b88665a16c9f078</td>\n",
       "      <td>North_region</td>\n",
       "      <td>4.0</td>\n",
       "      <td>credit_card</td>\n",
       "      <td>43.62</td>\n",
       "      <td>10-2017</td>\n",
       "      <td>12</td>\n",
       "      <td>autumn</td>\n",
       "      <td>home_$_electonics</td>\n",
       "      <td>20.0</td>\n",
       "    </tr>\n",
       "    <tr>\n",
       "      <th>4</th>\n",
       "      <td>0004aac84e0df4da2b147fca70cf8255</td>\n",
       "      <td>Southesar_region</td>\n",
       "      <td>5.0</td>\n",
       "      <td>credit_card</td>\n",
       "      <td>196.89</td>\n",
       "      <td>11-2017</td>\n",
       "      <td>3</td>\n",
       "      <td>autumn</td>\n",
       "      <td>home_$_electonics</td>\n",
       "      <td>13.0</td>\n",
       "    </tr>\n",
       "  </tbody>\n",
       "</table>\n",
       "</div>"
      ],
      "text/plain": [
       "                 customer_unique_id            Region  review_score  \\\n",
       "0  0000366f3b9a7992bf8c76cfdf3221e2  Southesar_region           5.0   \n",
       "1  0000b849f77a49e4a4ce2b2a4ca5be3f  Southesar_region           4.0   \n",
       "2  0000f46a3911fa3c0805444483337064      South_region           3.0   \n",
       "3  0000f6ccb0745a6a4b88665a16c9f078      North_region           4.0   \n",
       "4  0004aac84e0df4da2b147fca70cf8255  Southesar_region           5.0   \n",
       "\n",
       "  payment_type  payment_value purchace_date  Comment_Len delivery_season  \\\n",
       "0  credit_card         141.90       05-2018          111          spring   \n",
       "1  credit_card          27.19       05-2018            3          spring   \n",
       "2  credit_card          86.22       03-2017            3          spring   \n",
       "3  credit_card          43.62       10-2017           12          autumn   \n",
       "4  credit_card         196.89       11-2017            3          autumn   \n",
       "\n",
       "    product_category  delivery_delay_days  \n",
       "0  home_$_electonics                  6.0  \n",
       "1          groceries                  3.0  \n",
       "2          groceries                 25.0  \n",
       "3  home_$_electonics                 20.0  \n",
       "4  home_$_electonics                 13.0  "
      ]
     },
     "execution_count": 18,
     "metadata": {},
     "output_type": "execute_result"
    }
   ],
   "source": [
    "prereduced_data.head()"
   ]
  },
  {
   "cell_type": "code",
   "execution_count": 22,
   "id": "0efa4190-97ae-48af-ba1e-20948e99ea53",
   "metadata": {},
   "outputs": [
    {
     "data": {
      "text/plain": [
       "Index(['customer_unique_id', 'Region', 'review_score', 'payment_type',\n",
       "       'payment_value', 'purchace_date', 'Comment_Len', 'delivery_season',\n",
       "       'product_category', 'delivery_delay_days'],\n",
       "      dtype='object')"
      ]
     },
     "execution_count": 22,
     "metadata": {},
     "output_type": "execute_result"
    }
   ],
   "source": [
    "prereduced_data.columns"
   ]
  },
  {
   "cell_type": "code",
   "execution_count": 45,
   "id": "35cb06f0-ecc5-4d14-ac6b-1272b55a4269",
   "metadata": {},
   "outputs": [],
   "source": [
    "df_unique_clients = pd.DataFrame(prereduced_data['customer_unique_id'])"
   ]
  },
  {
   "cell_type": "code",
   "execution_count": 47,
   "id": "68b9d06b-ab42-4ff4-ac74-9e46ee3db1f4",
   "metadata": {},
   "outputs": [],
   "source": [
    "df_unique_clients.to_csv('df_unique_clients.csv')"
   ]
  },
  {
   "cell_type": "code",
   "execution_count": 48,
   "id": "5a5b28fe-a1a7-478a-b860-cac57e4718a1",
   "metadata": {},
   "outputs": [
    {
     "data": {
      "text/html": [
       "<div>\n",
       "<style scoped>\n",
       "    .dataframe tbody tr th:only-of-type {\n",
       "        vertical-align: middle;\n",
       "    }\n",
       "\n",
       "    .dataframe tbody tr th {\n",
       "        vertical-align: top;\n",
       "    }\n",
       "\n",
       "    .dataframe thead th {\n",
       "        text-align: right;\n",
       "    }\n",
       "</style>\n",
       "<table border=\"1\" class=\"dataframe\">\n",
       "  <thead>\n",
       "    <tr style=\"text-align: right;\">\n",
       "      <th></th>\n",
       "      <th>customer_unique_id</th>\n",
       "    </tr>\n",
       "  </thead>\n",
       "  <tbody>\n",
       "    <tr>\n",
       "      <th>0</th>\n",
       "      <td>0000366f3b9a7992bf8c76cfdf3221e2</td>\n",
       "    </tr>\n",
       "    <tr>\n",
       "      <th>1</th>\n",
       "      <td>0000b849f77a49e4a4ce2b2a4ca5be3f</td>\n",
       "    </tr>\n",
       "    <tr>\n",
       "      <th>2</th>\n",
       "      <td>0000f46a3911fa3c0805444483337064</td>\n",
       "    </tr>\n",
       "    <tr>\n",
       "      <th>3</th>\n",
       "      <td>0000f6ccb0745a6a4b88665a16c9f078</td>\n",
       "    </tr>\n",
       "    <tr>\n",
       "      <th>4</th>\n",
       "      <td>0004aac84e0df4da2b147fca70cf8255</td>\n",
       "    </tr>\n",
       "  </tbody>\n",
       "</table>\n",
       "</div>"
      ],
      "text/plain": [
       "                 customer_unique_id\n",
       "0  0000366f3b9a7992bf8c76cfdf3221e2\n",
       "1  0000b849f77a49e4a4ce2b2a4ca5be3f\n",
       "2  0000f46a3911fa3c0805444483337064\n",
       "3  0000f6ccb0745a6a4b88665a16c9f078\n",
       "4  0004aac84e0df4da2b147fca70cf8255"
      ]
     },
     "execution_count": 48,
     "metadata": {},
     "output_type": "execute_result"
    }
   ],
   "source": [
    "df_unique_clients.head()"
   ]
  },
  {
   "cell_type": "code",
   "execution_count": 218,
   "id": "001bf580-3eee-4687-8251-3e26bc6b84f2",
   "metadata": {},
   "outputs": [],
   "source": [
    "# Encodage des variables catégorielles \n",
    "encoded = pd.get_dummies(prereduced_data, columns= ['product_category', 'payment_type', 'Region', 'delivery_season'] )\n",
    "encoded.reset_index(inplace=True)"
   ]
  },
  {
   "cell_type": "code",
   "execution_count": 220,
   "id": "8e8fe4c4-fe87-48ca-aa7e-cd7fd673cfa7",
   "metadata": {},
   "outputs": [],
   "source": [
    "# Sauvegarder les données encoded\n",
    "encoded.to_csv('encoded.csv', index = False)"
   ]
  },
  {
   "cell_type": "code",
   "execution_count": 13,
   "id": "95661f2e-52d9-4e13-bb15-9a223cf59628",
   "metadata": {},
   "outputs": [],
   "source": [
    "encoded = pd.read_csv('encoded.csv')"
   ]
  },
  {
   "cell_type": "code",
   "execution_count": 219,
   "id": "6ec515c6-0e6a-4e4c-a114-1163d59bcead",
   "metadata": {},
   "outputs": [
    {
     "data": {
      "text/html": [
       "<div>\n",
       "<style scoped>\n",
       "    .dataframe tbody tr th:only-of-type {\n",
       "        vertical-align: middle;\n",
       "    }\n",
       "\n",
       "    .dataframe tbody tr th {\n",
       "        vertical-align: top;\n",
       "    }\n",
       "\n",
       "    .dataframe thead th {\n",
       "        text-align: right;\n",
       "    }\n",
       "</style>\n",
       "<table border=\"1\" class=\"dataframe\">\n",
       "  <thead>\n",
       "    <tr style=\"text-align: right;\">\n",
       "      <th></th>\n",
       "      <th>customer_unique_id</th>\n",
       "      <th>purchace_date</th>\n",
       "      <th>review_score</th>\n",
       "      <th>payment_value</th>\n",
       "      <th>Comment_Len</th>\n",
       "      <th>delivery_delay_days</th>\n",
       "      <th>product_category_fashion</th>\n",
       "      <th>product_category_groceries</th>\n",
       "      <th>product_category_home_$_electonics</th>\n",
       "      <th>product_category_leisure</th>\n",
       "      <th>product_category_services</th>\n",
       "      <th>payment_type_boleto</th>\n",
       "      <th>payment_type_credit_card</th>\n",
       "      <th>payment_type_debit_card</th>\n",
       "      <th>payment_type_voucher</th>\n",
       "      <th>Region_Central_West_region</th>\n",
       "      <th>Region_North_region</th>\n",
       "      <th>Region_Northeast_region</th>\n",
       "      <th>Region_South_region</th>\n",
       "      <th>Region_Southesar_region</th>\n",
       "      <th>delivery_season_autumn</th>\n",
       "      <th>delivery_season_spring</th>\n",
       "      <th>delivery_season_summer</th>\n",
       "      <th>delivery_season_winter</th>\n",
       "    </tr>\n",
       "  </thead>\n",
       "  <tbody>\n",
       "    <tr>\n",
       "      <th>0</th>\n",
       "      <td>0000366f3b9a7992bf8c76cfdf3221e2</td>\n",
       "      <td>05-2018</td>\n",
       "      <td>5.0</td>\n",
       "      <td>141.90</td>\n",
       "      <td>111</td>\n",
       "      <td>6.0</td>\n",
       "      <td>0</td>\n",
       "      <td>0</td>\n",
       "      <td>1</td>\n",
       "      <td>0</td>\n",
       "      <td>0</td>\n",
       "      <td>0</td>\n",
       "      <td>1</td>\n",
       "      <td>0</td>\n",
       "      <td>0</td>\n",
       "      <td>0</td>\n",
       "      <td>0</td>\n",
       "      <td>0</td>\n",
       "      <td>0</td>\n",
       "      <td>1</td>\n",
       "      <td>0</td>\n",
       "      <td>1</td>\n",
       "      <td>0</td>\n",
       "      <td>0</td>\n",
       "    </tr>\n",
       "    <tr>\n",
       "      <th>1</th>\n",
       "      <td>0000b849f77a49e4a4ce2b2a4ca5be3f</td>\n",
       "      <td>05-2018</td>\n",
       "      <td>4.0</td>\n",
       "      <td>27.19</td>\n",
       "      <td>3</td>\n",
       "      <td>3.0</td>\n",
       "      <td>0</td>\n",
       "      <td>1</td>\n",
       "      <td>0</td>\n",
       "      <td>0</td>\n",
       "      <td>0</td>\n",
       "      <td>0</td>\n",
       "      <td>1</td>\n",
       "      <td>0</td>\n",
       "      <td>0</td>\n",
       "      <td>0</td>\n",
       "      <td>0</td>\n",
       "      <td>0</td>\n",
       "      <td>0</td>\n",
       "      <td>1</td>\n",
       "      <td>0</td>\n",
       "      <td>1</td>\n",
       "      <td>0</td>\n",
       "      <td>0</td>\n",
       "    </tr>\n",
       "    <tr>\n",
       "      <th>2</th>\n",
       "      <td>0000f46a3911fa3c0805444483337064</td>\n",
       "      <td>03-2017</td>\n",
       "      <td>3.0</td>\n",
       "      <td>86.22</td>\n",
       "      <td>3</td>\n",
       "      <td>25.0</td>\n",
       "      <td>0</td>\n",
       "      <td>1</td>\n",
       "      <td>0</td>\n",
       "      <td>0</td>\n",
       "      <td>0</td>\n",
       "      <td>0</td>\n",
       "      <td>1</td>\n",
       "      <td>0</td>\n",
       "      <td>0</td>\n",
       "      <td>0</td>\n",
       "      <td>0</td>\n",
       "      <td>0</td>\n",
       "      <td>1</td>\n",
       "      <td>0</td>\n",
       "      <td>0</td>\n",
       "      <td>1</td>\n",
       "      <td>0</td>\n",
       "      <td>0</td>\n",
       "    </tr>\n",
       "    <tr>\n",
       "      <th>3</th>\n",
       "      <td>0000f6ccb0745a6a4b88665a16c9f078</td>\n",
       "      <td>10-2017</td>\n",
       "      <td>4.0</td>\n",
       "      <td>43.62</td>\n",
       "      <td>12</td>\n",
       "      <td>20.0</td>\n",
       "      <td>0</td>\n",
       "      <td>0</td>\n",
       "      <td>1</td>\n",
       "      <td>0</td>\n",
       "      <td>0</td>\n",
       "      <td>0</td>\n",
       "      <td>1</td>\n",
       "      <td>0</td>\n",
       "      <td>0</td>\n",
       "      <td>0</td>\n",
       "      <td>1</td>\n",
       "      <td>0</td>\n",
       "      <td>0</td>\n",
       "      <td>0</td>\n",
       "      <td>1</td>\n",
       "      <td>0</td>\n",
       "      <td>0</td>\n",
       "      <td>0</td>\n",
       "    </tr>\n",
       "    <tr>\n",
       "      <th>4</th>\n",
       "      <td>0004aac84e0df4da2b147fca70cf8255</td>\n",
       "      <td>11-2017</td>\n",
       "      <td>5.0</td>\n",
       "      <td>196.89</td>\n",
       "      <td>3</td>\n",
       "      <td>13.0</td>\n",
       "      <td>0</td>\n",
       "      <td>0</td>\n",
       "      <td>1</td>\n",
       "      <td>0</td>\n",
       "      <td>0</td>\n",
       "      <td>0</td>\n",
       "      <td>1</td>\n",
       "      <td>0</td>\n",
       "      <td>0</td>\n",
       "      <td>0</td>\n",
       "      <td>0</td>\n",
       "      <td>0</td>\n",
       "      <td>0</td>\n",
       "      <td>1</td>\n",
       "      <td>1</td>\n",
       "      <td>0</td>\n",
       "      <td>0</td>\n",
       "      <td>0</td>\n",
       "    </tr>\n",
       "  </tbody>\n",
       "</table>\n",
       "</div>"
      ],
      "text/plain": [
       "                 customer_unique_id purchace_date  review_score  \\\n",
       "0  0000366f3b9a7992bf8c76cfdf3221e2       05-2018           5.0   \n",
       "1  0000b849f77a49e4a4ce2b2a4ca5be3f       05-2018           4.0   \n",
       "2  0000f46a3911fa3c0805444483337064       03-2017           3.0   \n",
       "3  0000f6ccb0745a6a4b88665a16c9f078       10-2017           4.0   \n",
       "4  0004aac84e0df4da2b147fca70cf8255       11-2017           5.0   \n",
       "\n",
       "   payment_value  Comment_Len  delivery_delay_days  product_category_fashion  \\\n",
       "0         141.90          111                  6.0                         0   \n",
       "1          27.19            3                  3.0                         0   \n",
       "2          86.22            3                 25.0                         0   \n",
       "3          43.62           12                 20.0                         0   \n",
       "4         196.89            3                 13.0                         0   \n",
       "\n",
       "   product_category_groceries  product_category_home_$_electonics  \\\n",
       "0                           0                                   1   \n",
       "1                           1                                   0   \n",
       "2                           1                                   0   \n",
       "3                           0                                   1   \n",
       "4                           0                                   1   \n",
       "\n",
       "   product_category_leisure  product_category_services  payment_type_boleto  \\\n",
       "0                         0                          0                    0   \n",
       "1                         0                          0                    0   \n",
       "2                         0                          0                    0   \n",
       "3                         0                          0                    0   \n",
       "4                         0                          0                    0   \n",
       "\n",
       "   payment_type_credit_card  payment_type_debit_card  payment_type_voucher  \\\n",
       "0                         1                        0                     0   \n",
       "1                         1                        0                     0   \n",
       "2                         1                        0                     0   \n",
       "3                         1                        0                     0   \n",
       "4                         1                        0                     0   \n",
       "\n",
       "   Region_Central_West_region  Region_North_region  Region_Northeast_region  \\\n",
       "0                           0                    0                        0   \n",
       "1                           0                    0                        0   \n",
       "2                           0                    0                        0   \n",
       "3                           0                    1                        0   \n",
       "4                           0                    0                        0   \n",
       "\n",
       "   Region_South_region  Region_Southesar_region  delivery_season_autumn  \\\n",
       "0                    0                        1                       0   \n",
       "1                    0                        1                       0   \n",
       "2                    1                        0                       0   \n",
       "3                    0                        0                       1   \n",
       "4                    0                        1                       1   \n",
       "\n",
       "   delivery_season_spring  delivery_season_summer  delivery_season_winter  \n",
       "0                       1                       0                       0  \n",
       "1                       1                       0                       0  \n",
       "2                       1                       0                       0  \n",
       "3                       0                       0                       0  \n",
       "4                       0                       0                       0  "
      ]
     },
     "execution_count": 219,
     "metadata": {},
     "output_type": "execute_result"
    }
   ],
   "source": [
    "encoded.head()"
   ]
  },
  {
   "cell_type": "markdown",
   "id": "16c8639e-8657-4f86-b3cd-3f879551c2e9",
   "metadata": {},
   "source": [
    "4) Normaliser les valuers"
   ]
  },
  {
   "cell_type": "code",
   "execution_count": 221,
   "id": "0d7aea03-e352-43e0-83c8-9937947a8f82",
   "metadata": {},
   "outputs": [],
   "source": [
    "# Mise sous forme d'index de ces colonnes afin de pouvoir encoder le reste\n",
    "encoded.set_index(['customer_unique_id', 'purchace_date'], inplace=True)"
   ]
  },
  {
   "cell_type": "code",
   "execution_count": 224,
   "id": "cefd8fa5-afdb-4ad6-bb3e-c1892a6f8676",
   "metadata": {},
   "outputs": [],
   "source": [
    "df_normalisé = (encoded - encoded.mean()) / (encoded.max() - encoded.min())"
   ]
  },
  {
   "cell_type": "code",
   "execution_count": 222,
   "id": "73c792de-e0c0-4d04-9af1-35b08356b28c",
   "metadata": {},
   "outputs": [],
   "source": [
    "# Normaliser les valuers afin d'uniformiser les variances\n",
    "\n",
    "import pandas as pd\n",
    "from sklearn import preprocessing\n",
    "\n",
    "x = encoded.values #returns a numpy array\n",
    "min_max_scaler = preprocessing.MinMaxScaler()\n",
    "x_scaled = min_max_scaler.fit_transform(x)\n",
    "df_scaled_encoded = pd.DataFrame(x_scaled)"
   ]
  },
  {
   "cell_type": "code",
   "execution_count": 242,
   "id": "385f1625-58bc-4e35-a1c9-254d4faf7028",
   "metadata": {},
   "outputs": [
    {
     "data": {
      "text/plain": [
       "(126527, 22)"
      ]
     },
     "execution_count": 242,
     "metadata": {},
     "output_type": "execute_result"
    }
   ],
   "source": [
    "df_normalisé.shape"
   ]
  },
  {
   "cell_type": "code",
   "execution_count": 225,
   "id": "688e5a6a-8bc4-40c7-bb51-92f26f85cb58",
   "metadata": {},
   "outputs": [
    {
     "data": {
      "text/html": [
       "<div>\n",
       "<style scoped>\n",
       "    .dataframe tbody tr th:only-of-type {\n",
       "        vertical-align: middle;\n",
       "    }\n",
       "\n",
       "    .dataframe tbody tr th {\n",
       "        vertical-align: top;\n",
       "    }\n",
       "\n",
       "    .dataframe thead th {\n",
       "        text-align: right;\n",
       "    }\n",
       "</style>\n",
       "<table border=\"1\" class=\"dataframe\">\n",
       "  <thead>\n",
       "    <tr style=\"text-align: right;\">\n",
       "      <th></th>\n",
       "      <th></th>\n",
       "      <th>review_score</th>\n",
       "      <th>payment_value</th>\n",
       "      <th>Comment_Len</th>\n",
       "      <th>delivery_delay_days</th>\n",
       "      <th>product_category_fashion</th>\n",
       "      <th>product_category_groceries</th>\n",
       "      <th>product_category_home_$_electonics</th>\n",
       "      <th>product_category_leisure</th>\n",
       "      <th>product_category_services</th>\n",
       "      <th>payment_type_boleto</th>\n",
       "      <th>payment_type_credit_card</th>\n",
       "      <th>payment_type_debit_card</th>\n",
       "      <th>payment_type_voucher</th>\n",
       "      <th>Region_Central_West_region</th>\n",
       "      <th>Region_North_region</th>\n",
       "      <th>Region_Northeast_region</th>\n",
       "      <th>Region_South_region</th>\n",
       "      <th>Region_Southesar_region</th>\n",
       "      <th>delivery_season_autumn</th>\n",
       "      <th>delivery_season_spring</th>\n",
       "      <th>delivery_season_summer</th>\n",
       "      <th>delivery_season_winter</th>\n",
       "    </tr>\n",
       "    <tr>\n",
       "      <th>customer_unique_id</th>\n",
       "      <th>purchace_date</th>\n",
       "      <th></th>\n",
       "      <th></th>\n",
       "      <th></th>\n",
       "      <th></th>\n",
       "      <th></th>\n",
       "      <th></th>\n",
       "      <th></th>\n",
       "      <th></th>\n",
       "      <th></th>\n",
       "      <th></th>\n",
       "      <th></th>\n",
       "      <th></th>\n",
       "      <th></th>\n",
       "      <th></th>\n",
       "      <th></th>\n",
       "      <th></th>\n",
       "      <th></th>\n",
       "      <th></th>\n",
       "      <th></th>\n",
       "      <th></th>\n",
       "      <th></th>\n",
       "      <th></th>\n",
       "    </tr>\n",
       "  </thead>\n",
       "  <tbody>\n",
       "    <tr>\n",
       "      <th>0000366f3b9a7992bf8c76cfdf3221e2</th>\n",
       "      <th>05-2018</th>\n",
       "      <td>0.214824</td>\n",
       "      <td>-0.001500</td>\n",
       "      <td>0.012192</td>\n",
       "      <td>-0.027352</td>\n",
       "      <td>-0.103061</td>\n",
       "      <td>-0.224695</td>\n",
       "      <td>0.505094</td>\n",
       "      <td>-0.149486</td>\n",
       "      <td>-0.027852</td>\n",
       "      <td>-0.18924</td>\n",
       "      <td>0.231279</td>\n",
       "      <td>-0.013602</td>\n",
       "      <td>-0.028437</td>\n",
       "      <td>-0.05421</td>\n",
       "      <td>-0.023521</td>\n",
       "      <td>-0.090985</td>\n",
       "      <td>-0.137346</td>\n",
       "      <td>0.306061</td>\n",
       "      <td>-0.149794</td>\n",
       "      <td>0.702309</td>\n",
       "      <td>-0.336244</td>\n",
       "      <td>-0.21627</td>\n",
       "    </tr>\n",
       "    <tr>\n",
       "      <th>0000b849f77a49e4a4ce2b2a4ca5be3f</th>\n",
       "      <th>05-2018</th>\n",
       "      <td>-0.035176</td>\n",
       "      <td>-0.002549</td>\n",
       "      <td>-0.010521</td>\n",
       "      <td>-0.041706</td>\n",
       "      <td>-0.103061</td>\n",
       "      <td>0.775305</td>\n",
       "      <td>-0.494906</td>\n",
       "      <td>-0.149486</td>\n",
       "      <td>-0.027852</td>\n",
       "      <td>-0.18924</td>\n",
       "      <td>0.231279</td>\n",
       "      <td>-0.013602</td>\n",
       "      <td>-0.028437</td>\n",
       "      <td>-0.05421</td>\n",
       "      <td>-0.023521</td>\n",
       "      <td>-0.090985</td>\n",
       "      <td>-0.137346</td>\n",
       "      <td>0.306061</td>\n",
       "      <td>-0.149794</td>\n",
       "      <td>0.702309</td>\n",
       "      <td>-0.336244</td>\n",
       "      <td>-0.21627</td>\n",
       "    </tr>\n",
       "    <tr>\n",
       "      <th>0000f46a3911fa3c0805444483337064</th>\n",
       "      <th>03-2017</th>\n",
       "      <td>-0.285176</td>\n",
       "      <td>-0.002009</td>\n",
       "      <td>-0.010521</td>\n",
       "      <td>0.063557</td>\n",
       "      <td>-0.103061</td>\n",
       "      <td>0.775305</td>\n",
       "      <td>-0.494906</td>\n",
       "      <td>-0.149486</td>\n",
       "      <td>-0.027852</td>\n",
       "      <td>-0.18924</td>\n",
       "      <td>0.231279</td>\n",
       "      <td>-0.013602</td>\n",
       "      <td>-0.028437</td>\n",
       "      <td>-0.05421</td>\n",
       "      <td>-0.023521</td>\n",
       "      <td>-0.090985</td>\n",
       "      <td>0.862654</td>\n",
       "      <td>-0.693939</td>\n",
       "      <td>-0.149794</td>\n",
       "      <td>0.702309</td>\n",
       "      <td>-0.336244</td>\n",
       "      <td>-0.21627</td>\n",
       "    </tr>\n",
       "    <tr>\n",
       "      <th>0000f6ccb0745a6a4b88665a16c9f078</th>\n",
       "      <th>10-2017</th>\n",
       "      <td>-0.035176</td>\n",
       "      <td>-0.002399</td>\n",
       "      <td>-0.008628</td>\n",
       "      <td>0.039633</td>\n",
       "      <td>-0.103061</td>\n",
       "      <td>-0.224695</td>\n",
       "      <td>0.505094</td>\n",
       "      <td>-0.149486</td>\n",
       "      <td>-0.027852</td>\n",
       "      <td>-0.18924</td>\n",
       "      <td>0.231279</td>\n",
       "      <td>-0.013602</td>\n",
       "      <td>-0.028437</td>\n",
       "      <td>-0.05421</td>\n",
       "      <td>0.976479</td>\n",
       "      <td>-0.090985</td>\n",
       "      <td>-0.137346</td>\n",
       "      <td>-0.693939</td>\n",
       "      <td>0.850206</td>\n",
       "      <td>-0.297691</td>\n",
       "      <td>-0.336244</td>\n",
       "      <td>-0.21627</td>\n",
       "    </tr>\n",
       "    <tr>\n",
       "      <th>0004aac84e0df4da2b147fca70cf8255</th>\n",
       "      <th>11-2017</th>\n",
       "      <td>0.214824</td>\n",
       "      <td>-0.000997</td>\n",
       "      <td>-0.010521</td>\n",
       "      <td>0.006141</td>\n",
       "      <td>-0.103061</td>\n",
       "      <td>-0.224695</td>\n",
       "      <td>0.505094</td>\n",
       "      <td>-0.149486</td>\n",
       "      <td>-0.027852</td>\n",
       "      <td>-0.18924</td>\n",
       "      <td>0.231279</td>\n",
       "      <td>-0.013602</td>\n",
       "      <td>-0.028437</td>\n",
       "      <td>-0.05421</td>\n",
       "      <td>-0.023521</td>\n",
       "      <td>-0.090985</td>\n",
       "      <td>-0.137346</td>\n",
       "      <td>0.306061</td>\n",
       "      <td>0.850206</td>\n",
       "      <td>-0.297691</td>\n",
       "      <td>-0.336244</td>\n",
       "      <td>-0.21627</td>\n",
       "    </tr>\n",
       "  </tbody>\n",
       "</table>\n",
       "</div>"
      ],
      "text/plain": [
       "                                                review_score  payment_value  \\\n",
       "customer_unique_id               purchace_date                                \n",
       "0000366f3b9a7992bf8c76cfdf3221e2 05-2018            0.214824      -0.001500   \n",
       "0000b849f77a49e4a4ce2b2a4ca5be3f 05-2018           -0.035176      -0.002549   \n",
       "0000f46a3911fa3c0805444483337064 03-2017           -0.285176      -0.002009   \n",
       "0000f6ccb0745a6a4b88665a16c9f078 10-2017           -0.035176      -0.002399   \n",
       "0004aac84e0df4da2b147fca70cf8255 11-2017            0.214824      -0.000997   \n",
       "\n",
       "                                                Comment_Len  \\\n",
       "customer_unique_id               purchace_date                \n",
       "0000366f3b9a7992bf8c76cfdf3221e2 05-2018           0.012192   \n",
       "0000b849f77a49e4a4ce2b2a4ca5be3f 05-2018          -0.010521   \n",
       "0000f46a3911fa3c0805444483337064 03-2017          -0.010521   \n",
       "0000f6ccb0745a6a4b88665a16c9f078 10-2017          -0.008628   \n",
       "0004aac84e0df4da2b147fca70cf8255 11-2017          -0.010521   \n",
       "\n",
       "                                                delivery_delay_days  \\\n",
       "customer_unique_id               purchace_date                        \n",
       "0000366f3b9a7992bf8c76cfdf3221e2 05-2018                  -0.027352   \n",
       "0000b849f77a49e4a4ce2b2a4ca5be3f 05-2018                  -0.041706   \n",
       "0000f46a3911fa3c0805444483337064 03-2017                   0.063557   \n",
       "0000f6ccb0745a6a4b88665a16c9f078 10-2017                   0.039633   \n",
       "0004aac84e0df4da2b147fca70cf8255 11-2017                   0.006141   \n",
       "\n",
       "                                                product_category_fashion  \\\n",
       "customer_unique_id               purchace_date                             \n",
       "0000366f3b9a7992bf8c76cfdf3221e2 05-2018                       -0.103061   \n",
       "0000b849f77a49e4a4ce2b2a4ca5be3f 05-2018                       -0.103061   \n",
       "0000f46a3911fa3c0805444483337064 03-2017                       -0.103061   \n",
       "0000f6ccb0745a6a4b88665a16c9f078 10-2017                       -0.103061   \n",
       "0004aac84e0df4da2b147fca70cf8255 11-2017                       -0.103061   \n",
       "\n",
       "                                                product_category_groceries  \\\n",
       "customer_unique_id               purchace_date                               \n",
       "0000366f3b9a7992bf8c76cfdf3221e2 05-2018                         -0.224695   \n",
       "0000b849f77a49e4a4ce2b2a4ca5be3f 05-2018                          0.775305   \n",
       "0000f46a3911fa3c0805444483337064 03-2017                          0.775305   \n",
       "0000f6ccb0745a6a4b88665a16c9f078 10-2017                         -0.224695   \n",
       "0004aac84e0df4da2b147fca70cf8255 11-2017                         -0.224695   \n",
       "\n",
       "                                                product_category_home_$_electonics  \\\n",
       "customer_unique_id               purchace_date                                       \n",
       "0000366f3b9a7992bf8c76cfdf3221e2 05-2018                                  0.505094   \n",
       "0000b849f77a49e4a4ce2b2a4ca5be3f 05-2018                                 -0.494906   \n",
       "0000f46a3911fa3c0805444483337064 03-2017                                 -0.494906   \n",
       "0000f6ccb0745a6a4b88665a16c9f078 10-2017                                  0.505094   \n",
       "0004aac84e0df4da2b147fca70cf8255 11-2017                                  0.505094   \n",
       "\n",
       "                                                product_category_leisure  \\\n",
       "customer_unique_id               purchace_date                             \n",
       "0000366f3b9a7992bf8c76cfdf3221e2 05-2018                       -0.149486   \n",
       "0000b849f77a49e4a4ce2b2a4ca5be3f 05-2018                       -0.149486   \n",
       "0000f46a3911fa3c0805444483337064 03-2017                       -0.149486   \n",
       "0000f6ccb0745a6a4b88665a16c9f078 10-2017                       -0.149486   \n",
       "0004aac84e0df4da2b147fca70cf8255 11-2017                       -0.149486   \n",
       "\n",
       "                                                product_category_services  \\\n",
       "customer_unique_id               purchace_date                              \n",
       "0000366f3b9a7992bf8c76cfdf3221e2 05-2018                        -0.027852   \n",
       "0000b849f77a49e4a4ce2b2a4ca5be3f 05-2018                        -0.027852   \n",
       "0000f46a3911fa3c0805444483337064 03-2017                        -0.027852   \n",
       "0000f6ccb0745a6a4b88665a16c9f078 10-2017                        -0.027852   \n",
       "0004aac84e0df4da2b147fca70cf8255 11-2017                        -0.027852   \n",
       "\n",
       "                                                payment_type_boleto  \\\n",
       "customer_unique_id               purchace_date                        \n",
       "0000366f3b9a7992bf8c76cfdf3221e2 05-2018                   -0.18924   \n",
       "0000b849f77a49e4a4ce2b2a4ca5be3f 05-2018                   -0.18924   \n",
       "0000f46a3911fa3c0805444483337064 03-2017                   -0.18924   \n",
       "0000f6ccb0745a6a4b88665a16c9f078 10-2017                   -0.18924   \n",
       "0004aac84e0df4da2b147fca70cf8255 11-2017                   -0.18924   \n",
       "\n",
       "                                                payment_type_credit_card  \\\n",
       "customer_unique_id               purchace_date                             \n",
       "0000366f3b9a7992bf8c76cfdf3221e2 05-2018                        0.231279   \n",
       "0000b849f77a49e4a4ce2b2a4ca5be3f 05-2018                        0.231279   \n",
       "0000f46a3911fa3c0805444483337064 03-2017                        0.231279   \n",
       "0000f6ccb0745a6a4b88665a16c9f078 10-2017                        0.231279   \n",
       "0004aac84e0df4da2b147fca70cf8255 11-2017                        0.231279   \n",
       "\n",
       "                                                payment_type_debit_card  \\\n",
       "customer_unique_id               purchace_date                            \n",
       "0000366f3b9a7992bf8c76cfdf3221e2 05-2018                      -0.013602   \n",
       "0000b849f77a49e4a4ce2b2a4ca5be3f 05-2018                      -0.013602   \n",
       "0000f46a3911fa3c0805444483337064 03-2017                      -0.013602   \n",
       "0000f6ccb0745a6a4b88665a16c9f078 10-2017                      -0.013602   \n",
       "0004aac84e0df4da2b147fca70cf8255 11-2017                      -0.013602   \n",
       "\n",
       "                                                payment_type_voucher  \\\n",
       "customer_unique_id               purchace_date                         \n",
       "0000366f3b9a7992bf8c76cfdf3221e2 05-2018                   -0.028437   \n",
       "0000b849f77a49e4a4ce2b2a4ca5be3f 05-2018                   -0.028437   \n",
       "0000f46a3911fa3c0805444483337064 03-2017                   -0.028437   \n",
       "0000f6ccb0745a6a4b88665a16c9f078 10-2017                   -0.028437   \n",
       "0004aac84e0df4da2b147fca70cf8255 11-2017                   -0.028437   \n",
       "\n",
       "                                                Region_Central_West_region  \\\n",
       "customer_unique_id               purchace_date                               \n",
       "0000366f3b9a7992bf8c76cfdf3221e2 05-2018                          -0.05421   \n",
       "0000b849f77a49e4a4ce2b2a4ca5be3f 05-2018                          -0.05421   \n",
       "0000f46a3911fa3c0805444483337064 03-2017                          -0.05421   \n",
       "0000f6ccb0745a6a4b88665a16c9f078 10-2017                          -0.05421   \n",
       "0004aac84e0df4da2b147fca70cf8255 11-2017                          -0.05421   \n",
       "\n",
       "                                                Region_North_region  \\\n",
       "customer_unique_id               purchace_date                        \n",
       "0000366f3b9a7992bf8c76cfdf3221e2 05-2018                  -0.023521   \n",
       "0000b849f77a49e4a4ce2b2a4ca5be3f 05-2018                  -0.023521   \n",
       "0000f46a3911fa3c0805444483337064 03-2017                  -0.023521   \n",
       "0000f6ccb0745a6a4b88665a16c9f078 10-2017                   0.976479   \n",
       "0004aac84e0df4da2b147fca70cf8255 11-2017                  -0.023521   \n",
       "\n",
       "                                                Region_Northeast_region  \\\n",
       "customer_unique_id               purchace_date                            \n",
       "0000366f3b9a7992bf8c76cfdf3221e2 05-2018                      -0.090985   \n",
       "0000b849f77a49e4a4ce2b2a4ca5be3f 05-2018                      -0.090985   \n",
       "0000f46a3911fa3c0805444483337064 03-2017                      -0.090985   \n",
       "0000f6ccb0745a6a4b88665a16c9f078 10-2017                      -0.090985   \n",
       "0004aac84e0df4da2b147fca70cf8255 11-2017                      -0.090985   \n",
       "\n",
       "                                                Region_South_region  \\\n",
       "customer_unique_id               purchace_date                        \n",
       "0000366f3b9a7992bf8c76cfdf3221e2 05-2018                  -0.137346   \n",
       "0000b849f77a49e4a4ce2b2a4ca5be3f 05-2018                  -0.137346   \n",
       "0000f46a3911fa3c0805444483337064 03-2017                   0.862654   \n",
       "0000f6ccb0745a6a4b88665a16c9f078 10-2017                  -0.137346   \n",
       "0004aac84e0df4da2b147fca70cf8255 11-2017                  -0.137346   \n",
       "\n",
       "                                                Region_Southesar_region  \\\n",
       "customer_unique_id               purchace_date                            \n",
       "0000366f3b9a7992bf8c76cfdf3221e2 05-2018                       0.306061   \n",
       "0000b849f77a49e4a4ce2b2a4ca5be3f 05-2018                       0.306061   \n",
       "0000f46a3911fa3c0805444483337064 03-2017                      -0.693939   \n",
       "0000f6ccb0745a6a4b88665a16c9f078 10-2017                      -0.693939   \n",
       "0004aac84e0df4da2b147fca70cf8255 11-2017                       0.306061   \n",
       "\n",
       "                                                delivery_season_autumn  \\\n",
       "customer_unique_id               purchace_date                           \n",
       "0000366f3b9a7992bf8c76cfdf3221e2 05-2018                     -0.149794   \n",
       "0000b849f77a49e4a4ce2b2a4ca5be3f 05-2018                     -0.149794   \n",
       "0000f46a3911fa3c0805444483337064 03-2017                     -0.149794   \n",
       "0000f6ccb0745a6a4b88665a16c9f078 10-2017                      0.850206   \n",
       "0004aac84e0df4da2b147fca70cf8255 11-2017                      0.850206   \n",
       "\n",
       "                                                delivery_season_spring  \\\n",
       "customer_unique_id               purchace_date                           \n",
       "0000366f3b9a7992bf8c76cfdf3221e2 05-2018                      0.702309   \n",
       "0000b849f77a49e4a4ce2b2a4ca5be3f 05-2018                      0.702309   \n",
       "0000f46a3911fa3c0805444483337064 03-2017                      0.702309   \n",
       "0000f6ccb0745a6a4b88665a16c9f078 10-2017                     -0.297691   \n",
       "0004aac84e0df4da2b147fca70cf8255 11-2017                     -0.297691   \n",
       "\n",
       "                                                delivery_season_summer  \\\n",
       "customer_unique_id               purchace_date                           \n",
       "0000366f3b9a7992bf8c76cfdf3221e2 05-2018                     -0.336244   \n",
       "0000b849f77a49e4a4ce2b2a4ca5be3f 05-2018                     -0.336244   \n",
       "0000f46a3911fa3c0805444483337064 03-2017                     -0.336244   \n",
       "0000f6ccb0745a6a4b88665a16c9f078 10-2017                     -0.336244   \n",
       "0004aac84e0df4da2b147fca70cf8255 11-2017                     -0.336244   \n",
       "\n",
       "                                                delivery_season_winter  \n",
       "customer_unique_id               purchace_date                          \n",
       "0000366f3b9a7992bf8c76cfdf3221e2 05-2018                      -0.21627  \n",
       "0000b849f77a49e4a4ce2b2a4ca5be3f 05-2018                      -0.21627  \n",
       "0000f46a3911fa3c0805444483337064 03-2017                      -0.21627  \n",
       "0000f6ccb0745a6a4b88665a16c9f078 10-2017                      -0.21627  \n",
       "0004aac84e0df4da2b147fca70cf8255 11-2017                      -0.21627  "
      ]
     },
     "execution_count": 225,
     "metadata": {},
     "output_type": "execute_result"
    }
   ],
   "source": [
    "df_normalisé.head()"
   ]
  },
  {
   "cell_type": "markdown",
   "id": "132a2802-e7aa-490a-bf9e-ea670885f86a",
   "metadata": {},
   "source": [
    "5) Sélection des features les plus intéressants selon la variance"
   ]
  },
  {
   "cell_type": "code",
   "execution_count": 244,
   "id": "07b71d2d-c361-4ef6-be48-cddb663dded7",
   "metadata": {},
   "outputs": [
    {
     "data": {
      "text/plain": [
       "payment_value                         0.000041\n",
       "Comment_Len                           0.000463\n",
       "delivery_delay_days                   0.001778\n",
       "payment_type_debit_card               0.013417\n",
       "Region_North_region                   0.022968\n",
       "product_category_services             0.027076\n",
       "payment_type_voucher                  0.027628\n",
       "Region_Central_West_region            0.051271\n",
       "Region_Northeast_region               0.082707\n",
       "product_category_fashion              0.092440\n",
       "review_score                          0.098442\n",
       "Region_South_region                   0.118483\n",
       "product_category_leisure              0.127141\n",
       "delivery_season_autumn                0.127357\n",
       "payment_type_boleto                   0.153430\n",
       "delivery_season_winter                0.169499\n",
       "product_category_groceries            0.174209\n",
       "payment_type_credit_card              0.177790\n",
       "delivery_season_spring                0.209073\n",
       "Region_Southesar_region               0.212389\n",
       "delivery_season_summer                0.223186\n",
       "product_category_home_$_electonics    0.249976\n",
       "dtype: float64"
      ]
     },
     "execution_count": 244,
     "metadata": {},
     "output_type": "execute_result"
    }
   ],
   "source": [
    "# Afficher les variance de chaque variable de la plus petite à la plus grande\n",
    "df_normalisé.var(axis=0).sort_values()"
   ]
  },
  {
   "cell_type": "code",
   "execution_count": 245,
   "id": "283c4e24-1f20-41a2-ba88-9319c2d9ed22",
   "metadata": {},
   "outputs": [
    {
     "data": {
      "text/plain": [
       "array([ True, False, False, False,  True,  True,  True,  True, False,\n",
       "        True,  True, False, False,  True, False,  True,  True,  True,\n",
       "        True,  True,  True,  True])"
      ]
     },
     "execution_count": 245,
     "metadata": {},
     "output_type": "execute_result"
    }
   ],
   "source": [
    "# Transformer de Sklearn pour faire la seléction de variables\n",
    "# Les variables dont la variance est supérieure à un seuil sont affichés comme 'True'\n",
    "\n",
    "from sklearn.feature_selection import VarianceThreshold\n",
    "\n",
    "selector = VarianceThreshold(threshold=0.05)\n",
    "selector.fit_transform(df_normalisé)\n",
    "selector.get_support()"
   ]
  },
  {
   "cell_type": "code",
   "execution_count": 246,
   "id": "652c4f1d-3105-4f1f-a153-e545ae8c97d8",
   "metadata": {},
   "outputs": [
    {
     "data": {
      "text/plain": [
       "array(['review_score', 'product_category_fashion',\n",
       "       'product_category_groceries', 'product_category_home_$_electonics',\n",
       "       'product_category_leisure', 'payment_type_boleto',\n",
       "       'payment_type_credit_card', 'Region_Central_West_region',\n",
       "       'Region_Northeast_region', 'Region_South_region',\n",
       "       'Region_Southesar_region', 'delivery_season_autumn',\n",
       "       'delivery_season_spring', 'delivery_season_summer',\n",
       "       'delivery_season_winter'], dtype=object)"
      ]
     },
     "execution_count": 246,
     "metadata": {},
     "output_type": "execute_result"
    }
   ],
   "source": [
    "# Extraction des noms de colonnes correspondant aux valeurs 'True'\n",
    "np.array(df_normalisé.columns)[selector.get_support()]"
   ]
  },
  {
   "cell_type": "code",
   "execution_count": 247,
   "id": "0e931e96-04ef-4a98-9043-87b244ea0588",
   "metadata": {},
   "outputs": [],
   "source": [
    "reduced_df_cols = np.array(df_normalisé.columns)[selector.get_support()]"
   ]
  },
  {
   "cell_type": "code",
   "execution_count": 248,
   "id": "d9080ae2-d4e6-44fa-96c9-a76f69010a5f",
   "metadata": {},
   "outputs": [],
   "source": [
    "final_data = df_normalisé[reduced_df_cols]"
   ]
  },
  {
   "cell_type": "code",
   "execution_count": 249,
   "id": "87331824-a62d-4bdd-bc18-472d0cefed13",
   "metadata": {},
   "outputs": [
    {
     "data": {
      "text/plain": [
       "(126527, 15)"
      ]
     },
     "execution_count": 249,
     "metadata": {},
     "output_type": "execute_result"
    }
   ],
   "source": [
    "final_data.shape"
   ]
  },
  {
   "cell_type": "code",
   "execution_count": 250,
   "id": "f6dc5fd0-cec3-45f4-ab6e-e14243d0e7ce",
   "metadata": {},
   "outputs": [
    {
     "data": {
      "text/html": [
       "<div>\n",
       "<style scoped>\n",
       "    .dataframe tbody tr th:only-of-type {\n",
       "        vertical-align: middle;\n",
       "    }\n",
       "\n",
       "    .dataframe tbody tr th {\n",
       "        vertical-align: top;\n",
       "    }\n",
       "\n",
       "    .dataframe thead th {\n",
       "        text-align: right;\n",
       "    }\n",
       "</style>\n",
       "<table border=\"1\" class=\"dataframe\">\n",
       "  <thead>\n",
       "    <tr style=\"text-align: right;\">\n",
       "      <th></th>\n",
       "      <th></th>\n",
       "      <th>review_score</th>\n",
       "      <th>product_category_fashion</th>\n",
       "      <th>product_category_groceries</th>\n",
       "      <th>product_category_home_$_electonics</th>\n",
       "      <th>product_category_leisure</th>\n",
       "      <th>payment_type_boleto</th>\n",
       "      <th>payment_type_credit_card</th>\n",
       "      <th>Region_Central_West_region</th>\n",
       "      <th>Region_Northeast_region</th>\n",
       "      <th>Region_South_region</th>\n",
       "      <th>Region_Southesar_region</th>\n",
       "      <th>delivery_season_autumn</th>\n",
       "      <th>delivery_season_spring</th>\n",
       "      <th>delivery_season_summer</th>\n",
       "      <th>delivery_season_winter</th>\n",
       "    </tr>\n",
       "    <tr>\n",
       "      <th>customer_unique_id</th>\n",
       "      <th>purchace_date</th>\n",
       "      <th></th>\n",
       "      <th></th>\n",
       "      <th></th>\n",
       "      <th></th>\n",
       "      <th></th>\n",
       "      <th></th>\n",
       "      <th></th>\n",
       "      <th></th>\n",
       "      <th></th>\n",
       "      <th></th>\n",
       "      <th></th>\n",
       "      <th></th>\n",
       "      <th></th>\n",
       "      <th></th>\n",
       "      <th></th>\n",
       "    </tr>\n",
       "  </thead>\n",
       "  <tbody>\n",
       "    <tr>\n",
       "      <th>0000366f3b9a7992bf8c76cfdf3221e2</th>\n",
       "      <th>05-2018</th>\n",
       "      <td>0.214824</td>\n",
       "      <td>-0.103061</td>\n",
       "      <td>-0.224695</td>\n",
       "      <td>0.505094</td>\n",
       "      <td>-0.149486</td>\n",
       "      <td>-0.18924</td>\n",
       "      <td>0.231279</td>\n",
       "      <td>-0.05421</td>\n",
       "      <td>-0.090985</td>\n",
       "      <td>-0.137346</td>\n",
       "      <td>0.306061</td>\n",
       "      <td>-0.149794</td>\n",
       "      <td>0.702309</td>\n",
       "      <td>-0.336244</td>\n",
       "      <td>-0.21627</td>\n",
       "    </tr>\n",
       "    <tr>\n",
       "      <th>0000b849f77a49e4a4ce2b2a4ca5be3f</th>\n",
       "      <th>05-2018</th>\n",
       "      <td>-0.035176</td>\n",
       "      <td>-0.103061</td>\n",
       "      <td>0.775305</td>\n",
       "      <td>-0.494906</td>\n",
       "      <td>-0.149486</td>\n",
       "      <td>-0.18924</td>\n",
       "      <td>0.231279</td>\n",
       "      <td>-0.05421</td>\n",
       "      <td>-0.090985</td>\n",
       "      <td>-0.137346</td>\n",
       "      <td>0.306061</td>\n",
       "      <td>-0.149794</td>\n",
       "      <td>0.702309</td>\n",
       "      <td>-0.336244</td>\n",
       "      <td>-0.21627</td>\n",
       "    </tr>\n",
       "    <tr>\n",
       "      <th>0000f46a3911fa3c0805444483337064</th>\n",
       "      <th>03-2017</th>\n",
       "      <td>-0.285176</td>\n",
       "      <td>-0.103061</td>\n",
       "      <td>0.775305</td>\n",
       "      <td>-0.494906</td>\n",
       "      <td>-0.149486</td>\n",
       "      <td>-0.18924</td>\n",
       "      <td>0.231279</td>\n",
       "      <td>-0.05421</td>\n",
       "      <td>-0.090985</td>\n",
       "      <td>0.862654</td>\n",
       "      <td>-0.693939</td>\n",
       "      <td>-0.149794</td>\n",
       "      <td>0.702309</td>\n",
       "      <td>-0.336244</td>\n",
       "      <td>-0.21627</td>\n",
       "    </tr>\n",
       "    <tr>\n",
       "      <th>0000f6ccb0745a6a4b88665a16c9f078</th>\n",
       "      <th>10-2017</th>\n",
       "      <td>-0.035176</td>\n",
       "      <td>-0.103061</td>\n",
       "      <td>-0.224695</td>\n",
       "      <td>0.505094</td>\n",
       "      <td>-0.149486</td>\n",
       "      <td>-0.18924</td>\n",
       "      <td>0.231279</td>\n",
       "      <td>-0.05421</td>\n",
       "      <td>-0.090985</td>\n",
       "      <td>-0.137346</td>\n",
       "      <td>-0.693939</td>\n",
       "      <td>0.850206</td>\n",
       "      <td>-0.297691</td>\n",
       "      <td>-0.336244</td>\n",
       "      <td>-0.21627</td>\n",
       "    </tr>\n",
       "    <tr>\n",
       "      <th>0004aac84e0df4da2b147fca70cf8255</th>\n",
       "      <th>11-2017</th>\n",
       "      <td>0.214824</td>\n",
       "      <td>-0.103061</td>\n",
       "      <td>-0.224695</td>\n",
       "      <td>0.505094</td>\n",
       "      <td>-0.149486</td>\n",
       "      <td>-0.18924</td>\n",
       "      <td>0.231279</td>\n",
       "      <td>-0.05421</td>\n",
       "      <td>-0.090985</td>\n",
       "      <td>-0.137346</td>\n",
       "      <td>0.306061</td>\n",
       "      <td>0.850206</td>\n",
       "      <td>-0.297691</td>\n",
       "      <td>-0.336244</td>\n",
       "      <td>-0.21627</td>\n",
       "    </tr>\n",
       "  </tbody>\n",
       "</table>\n",
       "</div>"
      ],
      "text/plain": [
       "                                                review_score  \\\n",
       "customer_unique_id               purchace_date                 \n",
       "0000366f3b9a7992bf8c76cfdf3221e2 05-2018            0.214824   \n",
       "0000b849f77a49e4a4ce2b2a4ca5be3f 05-2018           -0.035176   \n",
       "0000f46a3911fa3c0805444483337064 03-2017           -0.285176   \n",
       "0000f6ccb0745a6a4b88665a16c9f078 10-2017           -0.035176   \n",
       "0004aac84e0df4da2b147fca70cf8255 11-2017            0.214824   \n",
       "\n",
       "                                                product_category_fashion  \\\n",
       "customer_unique_id               purchace_date                             \n",
       "0000366f3b9a7992bf8c76cfdf3221e2 05-2018                       -0.103061   \n",
       "0000b849f77a49e4a4ce2b2a4ca5be3f 05-2018                       -0.103061   \n",
       "0000f46a3911fa3c0805444483337064 03-2017                       -0.103061   \n",
       "0000f6ccb0745a6a4b88665a16c9f078 10-2017                       -0.103061   \n",
       "0004aac84e0df4da2b147fca70cf8255 11-2017                       -0.103061   \n",
       "\n",
       "                                                product_category_groceries  \\\n",
       "customer_unique_id               purchace_date                               \n",
       "0000366f3b9a7992bf8c76cfdf3221e2 05-2018                         -0.224695   \n",
       "0000b849f77a49e4a4ce2b2a4ca5be3f 05-2018                          0.775305   \n",
       "0000f46a3911fa3c0805444483337064 03-2017                          0.775305   \n",
       "0000f6ccb0745a6a4b88665a16c9f078 10-2017                         -0.224695   \n",
       "0004aac84e0df4da2b147fca70cf8255 11-2017                         -0.224695   \n",
       "\n",
       "                                                product_category_home_$_electonics  \\\n",
       "customer_unique_id               purchace_date                                       \n",
       "0000366f3b9a7992bf8c76cfdf3221e2 05-2018                                  0.505094   \n",
       "0000b849f77a49e4a4ce2b2a4ca5be3f 05-2018                                 -0.494906   \n",
       "0000f46a3911fa3c0805444483337064 03-2017                                 -0.494906   \n",
       "0000f6ccb0745a6a4b88665a16c9f078 10-2017                                  0.505094   \n",
       "0004aac84e0df4da2b147fca70cf8255 11-2017                                  0.505094   \n",
       "\n",
       "                                                product_category_leisure  \\\n",
       "customer_unique_id               purchace_date                             \n",
       "0000366f3b9a7992bf8c76cfdf3221e2 05-2018                       -0.149486   \n",
       "0000b849f77a49e4a4ce2b2a4ca5be3f 05-2018                       -0.149486   \n",
       "0000f46a3911fa3c0805444483337064 03-2017                       -0.149486   \n",
       "0000f6ccb0745a6a4b88665a16c9f078 10-2017                       -0.149486   \n",
       "0004aac84e0df4da2b147fca70cf8255 11-2017                       -0.149486   \n",
       "\n",
       "                                                payment_type_boleto  \\\n",
       "customer_unique_id               purchace_date                        \n",
       "0000366f3b9a7992bf8c76cfdf3221e2 05-2018                   -0.18924   \n",
       "0000b849f77a49e4a4ce2b2a4ca5be3f 05-2018                   -0.18924   \n",
       "0000f46a3911fa3c0805444483337064 03-2017                   -0.18924   \n",
       "0000f6ccb0745a6a4b88665a16c9f078 10-2017                   -0.18924   \n",
       "0004aac84e0df4da2b147fca70cf8255 11-2017                   -0.18924   \n",
       "\n",
       "                                                payment_type_credit_card  \\\n",
       "customer_unique_id               purchace_date                             \n",
       "0000366f3b9a7992bf8c76cfdf3221e2 05-2018                        0.231279   \n",
       "0000b849f77a49e4a4ce2b2a4ca5be3f 05-2018                        0.231279   \n",
       "0000f46a3911fa3c0805444483337064 03-2017                        0.231279   \n",
       "0000f6ccb0745a6a4b88665a16c9f078 10-2017                        0.231279   \n",
       "0004aac84e0df4da2b147fca70cf8255 11-2017                        0.231279   \n",
       "\n",
       "                                                Region_Central_West_region  \\\n",
       "customer_unique_id               purchace_date                               \n",
       "0000366f3b9a7992bf8c76cfdf3221e2 05-2018                          -0.05421   \n",
       "0000b849f77a49e4a4ce2b2a4ca5be3f 05-2018                          -0.05421   \n",
       "0000f46a3911fa3c0805444483337064 03-2017                          -0.05421   \n",
       "0000f6ccb0745a6a4b88665a16c9f078 10-2017                          -0.05421   \n",
       "0004aac84e0df4da2b147fca70cf8255 11-2017                          -0.05421   \n",
       "\n",
       "                                                Region_Northeast_region  \\\n",
       "customer_unique_id               purchace_date                            \n",
       "0000366f3b9a7992bf8c76cfdf3221e2 05-2018                      -0.090985   \n",
       "0000b849f77a49e4a4ce2b2a4ca5be3f 05-2018                      -0.090985   \n",
       "0000f46a3911fa3c0805444483337064 03-2017                      -0.090985   \n",
       "0000f6ccb0745a6a4b88665a16c9f078 10-2017                      -0.090985   \n",
       "0004aac84e0df4da2b147fca70cf8255 11-2017                      -0.090985   \n",
       "\n",
       "                                                Region_South_region  \\\n",
       "customer_unique_id               purchace_date                        \n",
       "0000366f3b9a7992bf8c76cfdf3221e2 05-2018                  -0.137346   \n",
       "0000b849f77a49e4a4ce2b2a4ca5be3f 05-2018                  -0.137346   \n",
       "0000f46a3911fa3c0805444483337064 03-2017                   0.862654   \n",
       "0000f6ccb0745a6a4b88665a16c9f078 10-2017                  -0.137346   \n",
       "0004aac84e0df4da2b147fca70cf8255 11-2017                  -0.137346   \n",
       "\n",
       "                                                Region_Southesar_region  \\\n",
       "customer_unique_id               purchace_date                            \n",
       "0000366f3b9a7992bf8c76cfdf3221e2 05-2018                       0.306061   \n",
       "0000b849f77a49e4a4ce2b2a4ca5be3f 05-2018                       0.306061   \n",
       "0000f46a3911fa3c0805444483337064 03-2017                      -0.693939   \n",
       "0000f6ccb0745a6a4b88665a16c9f078 10-2017                      -0.693939   \n",
       "0004aac84e0df4da2b147fca70cf8255 11-2017                       0.306061   \n",
       "\n",
       "                                                delivery_season_autumn  \\\n",
       "customer_unique_id               purchace_date                           \n",
       "0000366f3b9a7992bf8c76cfdf3221e2 05-2018                     -0.149794   \n",
       "0000b849f77a49e4a4ce2b2a4ca5be3f 05-2018                     -0.149794   \n",
       "0000f46a3911fa3c0805444483337064 03-2017                     -0.149794   \n",
       "0000f6ccb0745a6a4b88665a16c9f078 10-2017                      0.850206   \n",
       "0004aac84e0df4da2b147fca70cf8255 11-2017                      0.850206   \n",
       "\n",
       "                                                delivery_season_spring  \\\n",
       "customer_unique_id               purchace_date                           \n",
       "0000366f3b9a7992bf8c76cfdf3221e2 05-2018                      0.702309   \n",
       "0000b849f77a49e4a4ce2b2a4ca5be3f 05-2018                      0.702309   \n",
       "0000f46a3911fa3c0805444483337064 03-2017                      0.702309   \n",
       "0000f6ccb0745a6a4b88665a16c9f078 10-2017                     -0.297691   \n",
       "0004aac84e0df4da2b147fca70cf8255 11-2017                     -0.297691   \n",
       "\n",
       "                                                delivery_season_summer  \\\n",
       "customer_unique_id               purchace_date                           \n",
       "0000366f3b9a7992bf8c76cfdf3221e2 05-2018                     -0.336244   \n",
       "0000b849f77a49e4a4ce2b2a4ca5be3f 05-2018                     -0.336244   \n",
       "0000f46a3911fa3c0805444483337064 03-2017                     -0.336244   \n",
       "0000f6ccb0745a6a4b88665a16c9f078 10-2017                     -0.336244   \n",
       "0004aac84e0df4da2b147fca70cf8255 11-2017                     -0.336244   \n",
       "\n",
       "                                                delivery_season_winter  \n",
       "customer_unique_id               purchace_date                          \n",
       "0000366f3b9a7992bf8c76cfdf3221e2 05-2018                      -0.21627  \n",
       "0000b849f77a49e4a4ce2b2a4ca5be3f 05-2018                      -0.21627  \n",
       "0000f46a3911fa3c0805444483337064 03-2017                      -0.21627  \n",
       "0000f6ccb0745a6a4b88665a16c9f078 10-2017                      -0.21627  \n",
       "0004aac84e0df4da2b147fca70cf8255 11-2017                      -0.21627  "
      ]
     },
     "execution_count": 250,
     "metadata": {},
     "output_type": "execute_result"
    }
   ],
   "source": [
    "final_data.head()"
   ]
  },
  {
   "cell_type": "code",
   "execution_count": 251,
   "id": "dc6b5454-4d7e-4678-a6bf-e5efecadb80b",
   "metadata": {},
   "outputs": [],
   "source": [
    "final_data.to_csv('encoded.csv', index = False)"
   ]
  },
  {
   "cell_type": "code",
   "execution_count": 3,
   "id": "491569d6-ba37-4c63-8330-8899c56a0393",
   "metadata": {},
   "outputs": [],
   "source": [
    "final_data = pd.read_csv('./encoded.csv')"
   ]
  },
  {
   "cell_type": "markdown",
   "id": "5f10ba4c-e5fb-4887-86b3-d74f58dc5ce1",
   "metadata": {},
   "source": [
    "    5.  Positiver les valeurs"
   ]
  },
  {
   "cell_type": "code",
   "execution_count": 4,
   "id": "31b812f9-96a0-47b0-9f12-3c0655af65f4",
   "metadata": {},
   "outputs": [],
   "source": [
    "from numpy import clip\n",
    "for value in final_data:\n",
    "    # clip pixel values to the range [-1,1] this will positive the negative values (values smaller than -1 will become -1 and values larger than 1 become 1)\n",
    "    processed_data = clip(final_data, -1.0, 1.0)\n",
    "    # rescale the values from [-1,1] to [0,1] with 0.5 mean\n",
    "    processed_data = (processed_data + 1.0) / 2.0"
   ]
  },
  {
   "cell_type": "code",
   "execution_count": 6,
   "id": "21897de6-8b8b-450f-9fbb-c1c445830ffb",
   "metadata": {},
   "outputs": [],
   "source": [
    "processed_data.to_csv('processed_data.csv', index = False)"
   ]
  },
  {
   "cell_type": "code",
   "execution_count": 5,
   "id": "603c2460-5ea8-4ef2-b03d-73115458ed20",
   "metadata": {},
   "outputs": [
    {
     "data": {
      "text/html": [
       "<div>\n",
       "<style scoped>\n",
       "    .dataframe tbody tr th:only-of-type {\n",
       "        vertical-align: middle;\n",
       "    }\n",
       "\n",
       "    .dataframe tbody tr th {\n",
       "        vertical-align: top;\n",
       "    }\n",
       "\n",
       "    .dataframe thead th {\n",
       "        text-align: right;\n",
       "    }\n",
       "</style>\n",
       "<table border=\"1\" class=\"dataframe\">\n",
       "  <thead>\n",
       "    <tr style=\"text-align: right;\">\n",
       "      <th></th>\n",
       "      <th>review_score</th>\n",
       "      <th>product_category_fashion</th>\n",
       "      <th>product_category_groceries</th>\n",
       "      <th>product_category_home_$_electonics</th>\n",
       "      <th>product_category_leisure</th>\n",
       "      <th>payment_type_boleto</th>\n",
       "      <th>payment_type_credit_card</th>\n",
       "      <th>Region_Central_West_region</th>\n",
       "      <th>Region_Northeast_region</th>\n",
       "      <th>Region_South_region</th>\n",
       "      <th>Region_Southesar_region</th>\n",
       "      <th>delivery_season_autumn</th>\n",
       "      <th>delivery_season_spring</th>\n",
       "      <th>delivery_season_summer</th>\n",
       "      <th>delivery_season_winter</th>\n",
       "    </tr>\n",
       "  </thead>\n",
       "  <tbody>\n",
       "    <tr>\n",
       "      <th>0</th>\n",
       "      <td>0.607412</td>\n",
       "      <td>0.448469</td>\n",
       "      <td>0.387652</td>\n",
       "      <td>0.752547</td>\n",
       "      <td>0.425257</td>\n",
       "      <td>0.40538</td>\n",
       "      <td>0.615639</td>\n",
       "      <td>0.472895</td>\n",
       "      <td>0.454508</td>\n",
       "      <td>0.431327</td>\n",
       "      <td>0.653031</td>\n",
       "      <td>0.425103</td>\n",
       "      <td>0.851154</td>\n",
       "      <td>0.331878</td>\n",
       "      <td>0.391865</td>\n",
       "    </tr>\n",
       "    <tr>\n",
       "      <th>1</th>\n",
       "      <td>0.482412</td>\n",
       "      <td>0.448469</td>\n",
       "      <td>0.887652</td>\n",
       "      <td>0.252547</td>\n",
       "      <td>0.425257</td>\n",
       "      <td>0.40538</td>\n",
       "      <td>0.615639</td>\n",
       "      <td>0.472895</td>\n",
       "      <td>0.454508</td>\n",
       "      <td>0.431327</td>\n",
       "      <td>0.653031</td>\n",
       "      <td>0.425103</td>\n",
       "      <td>0.851154</td>\n",
       "      <td>0.331878</td>\n",
       "      <td>0.391865</td>\n",
       "    </tr>\n",
       "    <tr>\n",
       "      <th>2</th>\n",
       "      <td>0.357412</td>\n",
       "      <td>0.448469</td>\n",
       "      <td>0.887652</td>\n",
       "      <td>0.252547</td>\n",
       "      <td>0.425257</td>\n",
       "      <td>0.40538</td>\n",
       "      <td>0.615639</td>\n",
       "      <td>0.472895</td>\n",
       "      <td>0.454508</td>\n",
       "      <td>0.931327</td>\n",
       "      <td>0.153031</td>\n",
       "      <td>0.425103</td>\n",
       "      <td>0.851154</td>\n",
       "      <td>0.331878</td>\n",
       "      <td>0.391865</td>\n",
       "    </tr>\n",
       "    <tr>\n",
       "      <th>3</th>\n",
       "      <td>0.482412</td>\n",
       "      <td>0.448469</td>\n",
       "      <td>0.387652</td>\n",
       "      <td>0.752547</td>\n",
       "      <td>0.425257</td>\n",
       "      <td>0.40538</td>\n",
       "      <td>0.615639</td>\n",
       "      <td>0.472895</td>\n",
       "      <td>0.454508</td>\n",
       "      <td>0.431327</td>\n",
       "      <td>0.153031</td>\n",
       "      <td>0.925103</td>\n",
       "      <td>0.351154</td>\n",
       "      <td>0.331878</td>\n",
       "      <td>0.391865</td>\n",
       "    </tr>\n",
       "    <tr>\n",
       "      <th>4</th>\n",
       "      <td>0.607412</td>\n",
       "      <td>0.448469</td>\n",
       "      <td>0.387652</td>\n",
       "      <td>0.752547</td>\n",
       "      <td>0.425257</td>\n",
       "      <td>0.40538</td>\n",
       "      <td>0.615639</td>\n",
       "      <td>0.472895</td>\n",
       "      <td>0.454508</td>\n",
       "      <td>0.431327</td>\n",
       "      <td>0.653031</td>\n",
       "      <td>0.925103</td>\n",
       "      <td>0.351154</td>\n",
       "      <td>0.331878</td>\n",
       "      <td>0.391865</td>\n",
       "    </tr>\n",
       "  </tbody>\n",
       "</table>\n",
       "</div>"
      ],
      "text/plain": [
       "   review_score  product_category_fashion  product_category_groceries  \\\n",
       "0      0.607412                  0.448469                    0.387652   \n",
       "1      0.482412                  0.448469                    0.887652   \n",
       "2      0.357412                  0.448469                    0.887652   \n",
       "3      0.482412                  0.448469                    0.387652   \n",
       "4      0.607412                  0.448469                    0.387652   \n",
       "\n",
       "   product_category_home_$_electonics  product_category_leisure  \\\n",
       "0                            0.752547                  0.425257   \n",
       "1                            0.252547                  0.425257   \n",
       "2                            0.252547                  0.425257   \n",
       "3                            0.752547                  0.425257   \n",
       "4                            0.752547                  0.425257   \n",
       "\n",
       "   payment_type_boleto  payment_type_credit_card  Region_Central_West_region  \\\n",
       "0              0.40538                  0.615639                    0.472895   \n",
       "1              0.40538                  0.615639                    0.472895   \n",
       "2              0.40538                  0.615639                    0.472895   \n",
       "3              0.40538                  0.615639                    0.472895   \n",
       "4              0.40538                  0.615639                    0.472895   \n",
       "\n",
       "   Region_Northeast_region  Region_South_region  Region_Southesar_region  \\\n",
       "0                 0.454508             0.431327                 0.653031   \n",
       "1                 0.454508             0.431327                 0.653031   \n",
       "2                 0.454508             0.931327                 0.153031   \n",
       "3                 0.454508             0.431327                 0.153031   \n",
       "4                 0.454508             0.431327                 0.653031   \n",
       "\n",
       "   delivery_season_autumn  delivery_season_spring  delivery_season_summer  \\\n",
       "0                0.425103                0.851154                0.331878   \n",
       "1                0.425103                0.851154                0.331878   \n",
       "2                0.425103                0.851154                0.331878   \n",
       "3                0.925103                0.351154                0.331878   \n",
       "4                0.925103                0.351154                0.331878   \n",
       "\n",
       "   delivery_season_winter  \n",
       "0                0.391865  \n",
       "1                0.391865  \n",
       "2                0.391865  \n",
       "3                0.391865  \n",
       "4                0.391865  "
      ]
     },
     "execution_count": 5,
     "metadata": {},
     "output_type": "execute_result"
    }
   ],
   "source": [
    "processed_data.head()"
   ]
  },
  {
   "cell_type": "markdown",
   "id": "e7a6556f-a7e2-4123-8320-d6d7b6f9ead6",
   "metadata": {},
   "source": [
    " 6. Train/Test split"
   ]
  },
  {
   "cell_type": "code",
   "execution_count": 258,
   "id": "97c6524c-1a30-455f-aa6c-923b3cccf1e1",
   "metadata": {},
   "outputs": [
    {
     "data": {
      "text/plain": [
       "((88568, 15), (37959, 15))"
      ]
     },
     "execution_count": 258,
     "metadata": {},
     "output_type": "execute_result"
    }
   ],
   "source": [
    "from sklearn.model_selection import train_test_split\n",
    "# Séparer les données en train and test\n",
    "X_train, X_test= train_test_split(processed_data, test_size=0.3,random_state=0)\n",
    "\n",
    "X_train.shape, X_test.shape"
   ]
  },
  {
   "cell_type": "code",
   "execution_count": 259,
   "id": "7041c6a3-0742-43b0-b464-781edc171d57",
   "metadata": {},
   "outputs": [],
   "source": [
    "# Sauvegarder X_train et X_test\n",
    "X_train.to_csv('X_train.csv')\n",
    "X_test.to_csv('X_test.csv')"
   ]
  },
  {
   "cell_type": "markdown",
   "id": "3ac3c31f-1bae-4d02-b6a8-798b15e8ec92",
   "metadata": {},
   "source": [
    "Dans ce notebook nous avons effectuées toute la partie préalable au Machine Learning pour le traitement des données"
   ]
  }
 ],
 "metadata": {
  "kernelspec": {
   "display_name": "Python 3 (ipykernel)",
   "language": "python",
   "name": "python3"
  },
  "language_info": {
   "codemirror_mode": {
    "name": "ipython",
    "version": 3
   },
   "file_extension": ".py",
   "mimetype": "text/x-python",
   "name": "python",
   "nbconvert_exporter": "python",
   "pygments_lexer": "ipython3",
   "version": "3.9.7"
  }
 },
 "nbformat": 4,
 "nbformat_minor": 5
}
